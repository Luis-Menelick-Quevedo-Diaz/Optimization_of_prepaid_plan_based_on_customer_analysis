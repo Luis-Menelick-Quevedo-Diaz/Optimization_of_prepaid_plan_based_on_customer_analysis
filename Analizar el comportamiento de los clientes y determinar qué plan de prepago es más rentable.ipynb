{
 "cells": [
  {
   "attachments": {},
   "cell_type": "markdown",
   "metadata": {},
   "source": [
    "# Analizar el comportamiento de los clientes y determinar qué plan de prepago es más rentable"
   ]
  },
  {
   "attachments": {},
   "cell_type": "markdown",
   "metadata": {},
   "source": [
    "Realizaremos un análisis para el operador de telecomunicaciones Megaline. La empresa ofrece a sus clientes dos planes tarifarios de prepago, Surf y Ultimate. El departamento comercial quiere saber cuál de los planes aporta más ingresos para ajustar el presupuesto de publicidad. Estudiaremos los datos para analizar el comportamiento de los clientes"
   ]
  },
  {
   "cell_type": "code",
   "execution_count": 3,
   "metadata": {},
   "outputs": [],
   "source": [
    "from scipy import stats as st\n",
    "import pandas as pd\n",
    "import matplotlib.pyplot as plt\n",
    "import numpy as np"
   ]
  },
  {
   "attachments": {},
   "cell_type": "markdown",
   "metadata": {},
   "source": [
    "Cargar datos"
   ]
  },
  {
   "cell_type": "code",
   "execution_count": 4,
   "metadata": {},
   "outputs": [],
   "source": [
    "# Carga el archivo de datos en un DataFrame\n",
    "calls = pd.read_csv(\"C:/Users/USER/Documents/proyectos/proyecto 4(terminado)/megaline_calls.csv\")\n",
    "internet = pd.read_csv(\"C:/Users/USER/Documents/proyectos/proyecto 4(terminado)/megaline_internet.csv\")\n",
    "messages = pd.read_csv(\"C:/Users/USER/Documents/proyectos/proyecto 4(terminado)/megaline_messages.csv\")\n",
    "plans = pd.read_csv(\"C:/Users/USER/Documents/proyectos/proyecto 4(terminado)/megaline_plans.csv\")\n",
    "users = pd.read_csv(\"C:/Users/USER/Documents/proyectos/proyecto 4(terminado)/megaline_users.csv\")"
   ]
  },
  {
   "attachments": {},
   "cell_type": "markdown",
   "metadata": {},
   "source": [
    "Exploración de datos\n",
    "---"
   ]
  },
  {
   "attachments": {},
   "cell_type": "markdown",
   "metadata": {},
   "source": [
    "El datasets calls continene los siguientes campos:\n",
    "\n",
    "- `id` — identificador único de la llamada\n",
    "- `call_date` — fecha de la llamada\n",
    "- `duration` — duración de la llamada (en minutos)\n",
    "- `user_id` — el identificador del usuario que realiza la llamada"
   ]
  },
  {
   "attachments": {},
   "cell_type": "markdown",
   "metadata": {},
   "source": [
    "El dataframe **\"llamadas\"** contiene información sobre las llamadas realizadas por cada usuario"
   ]
  },
  {
   "cell_type": "code",
   "execution_count": 5,
   "metadata": {},
   "outputs": [
    {
     "name": "stdout",
     "output_type": "stream",
     "text": [
      "<class 'pandas.core.frame.DataFrame'>\n",
      "RangeIndex: 137735 entries, 0 to 137734\n",
      "Data columns (total 4 columns):\n",
      " #   Column     Non-Null Count   Dtype  \n",
      "---  ------     --------------   -----  \n",
      " 0   id         137735 non-null  object \n",
      " 1   user_id    137735 non-null  int64  \n",
      " 2   call_date  137735 non-null  object \n",
      " 3   duration   137735 non-null  float64\n",
      "dtypes: float64(1), int64(1), object(2)\n",
      "memory usage: 4.2+ MB\n"
     ]
    }
   ],
   "source": [
    "calls.info()"
   ]
  },
  {
   "attachments": {},
   "cell_type": "markdown",
   "metadata": {},
   "source": [
    "Aqui podemos ver que tendremos que cambiar la columna **\"call_time\"** en datetime y redondearemos la duración"
   ]
  },
  {
   "cell_type": "code",
   "execution_count": 6,
   "metadata": {},
   "outputs": [
    {
     "data": {
      "text/html": [
       "<div>\n",
       "<style scoped>\n",
       "    .dataframe tbody tr th:only-of-type {\n",
       "        vertical-align: middle;\n",
       "    }\n",
       "\n",
       "    .dataframe tbody tr th {\n",
       "        vertical-align: top;\n",
       "    }\n",
       "\n",
       "    .dataframe thead th {\n",
       "        text-align: right;\n",
       "    }\n",
       "</style>\n",
       "<table border=\"1\" class=\"dataframe\">\n",
       "  <thead>\n",
       "    <tr style=\"text-align: right;\">\n",
       "      <th></th>\n",
       "      <th>id</th>\n",
       "      <th>user_id</th>\n",
       "      <th>call_date</th>\n",
       "      <th>duration</th>\n",
       "    </tr>\n",
       "  </thead>\n",
       "  <tbody>\n",
       "    <tr>\n",
       "      <th>0</th>\n",
       "      <td>1000_93</td>\n",
       "      <td>1000</td>\n",
       "      <td>2018-12-27</td>\n",
       "      <td>8.52</td>\n",
       "    </tr>\n",
       "    <tr>\n",
       "      <th>1</th>\n",
       "      <td>1000_145</td>\n",
       "      <td>1000</td>\n",
       "      <td>2018-12-27</td>\n",
       "      <td>13.66</td>\n",
       "    </tr>\n",
       "    <tr>\n",
       "      <th>2</th>\n",
       "      <td>1000_247</td>\n",
       "      <td>1000</td>\n",
       "      <td>2018-12-27</td>\n",
       "      <td>14.48</td>\n",
       "    </tr>\n",
       "    <tr>\n",
       "      <th>3</th>\n",
       "      <td>1000_309</td>\n",
       "      <td>1000</td>\n",
       "      <td>2018-12-28</td>\n",
       "      <td>5.76</td>\n",
       "    </tr>\n",
       "    <tr>\n",
       "      <th>4</th>\n",
       "      <td>1000_380</td>\n",
       "      <td>1000</td>\n",
       "      <td>2018-12-30</td>\n",
       "      <td>4.22</td>\n",
       "    </tr>\n",
       "  </tbody>\n",
       "</table>\n",
       "</div>"
      ],
      "text/plain": [
       "         id  user_id   call_date  duration\n",
       "0   1000_93     1000  2018-12-27      8.52\n",
       "1  1000_145     1000  2018-12-27     13.66\n",
       "2  1000_247     1000  2018-12-27     14.48\n",
       "3  1000_309     1000  2018-12-28      5.76\n",
       "4  1000_380     1000  2018-12-30      4.22"
      ]
     },
     "execution_count": 6,
     "metadata": {},
     "output_type": "execute_result"
    }
   ],
   "source": [
    "calls.head()"
   ]
  },
  {
   "attachments": {},
   "cell_type": "markdown",
   "metadata": {},
   "source": [
    "---"
   ]
  },
  {
   "attachments": {},
   "cell_type": "markdown",
   "metadata": {},
   "source": [
    "El datasets internet continene los siguientes campos:\n",
    "\n",
    "- `id` — identificador único de la sesión\n",
    "- `mb_used` — el volumen de datos gastados durante la sesión (en megabytes)\n",
    "- `session_date` — fecha de la sesión web\n",
    "- `user_id` — identificador del usuario"
   ]
  },
  {
   "attachments": {},
   "cell_type": "markdown",
   "metadata": {},
   "source": [
    "El dataframe **\"internet\"** contiene información sobre el cantidad de datos consumidos por cada usuario."
   ]
  },
  {
   "cell_type": "code",
   "execution_count": 7,
   "metadata": {},
   "outputs": [
    {
     "name": "stdout",
     "output_type": "stream",
     "text": [
      "<class 'pandas.core.frame.DataFrame'>\n",
      "RangeIndex: 104825 entries, 0 to 104824\n",
      "Data columns (total 4 columns):\n",
      " #   Column        Non-Null Count   Dtype  \n",
      "---  ------        --------------   -----  \n",
      " 0   id            104825 non-null  object \n",
      " 1   user_id       104825 non-null  int64  \n",
      " 2   session_date  104825 non-null  object \n",
      " 3   mb_used       104825 non-null  float64\n",
      "dtypes: float64(1), int64(1), object(2)\n",
      "memory usage: 3.2+ MB\n"
     ]
    }
   ],
   "source": [
    "internet.info()"
   ]
  },
  {
   "attachments": {},
   "cell_type": "markdown",
   "metadata": {},
   "source": [
    "Tenemos que convertir los valores de la columna 'session_date' en tipo datetime y también convertir los valores de 'mb_used' en Gigabytes y redondearlos."
   ]
  },
  {
   "cell_type": "code",
   "execution_count": 8,
   "metadata": {},
   "outputs": [
    {
     "data": {
      "text/html": [
       "<div>\n",
       "<style scoped>\n",
       "    .dataframe tbody tr th:only-of-type {\n",
       "        vertical-align: middle;\n",
       "    }\n",
       "\n",
       "    .dataframe tbody tr th {\n",
       "        vertical-align: top;\n",
       "    }\n",
       "\n",
       "    .dataframe thead th {\n",
       "        text-align: right;\n",
       "    }\n",
       "</style>\n",
       "<table border=\"1\" class=\"dataframe\">\n",
       "  <thead>\n",
       "    <tr style=\"text-align: right;\">\n",
       "      <th></th>\n",
       "      <th>id</th>\n",
       "      <th>user_id</th>\n",
       "      <th>session_date</th>\n",
       "      <th>mb_used</th>\n",
       "    </tr>\n",
       "  </thead>\n",
       "  <tbody>\n",
       "    <tr>\n",
       "      <th>0</th>\n",
       "      <td>1000_13</td>\n",
       "      <td>1000</td>\n",
       "      <td>2018-12-29</td>\n",
       "      <td>89.86</td>\n",
       "    </tr>\n",
       "    <tr>\n",
       "      <th>1</th>\n",
       "      <td>1000_204</td>\n",
       "      <td>1000</td>\n",
       "      <td>2018-12-31</td>\n",
       "      <td>0.00</td>\n",
       "    </tr>\n",
       "    <tr>\n",
       "      <th>2</th>\n",
       "      <td>1000_379</td>\n",
       "      <td>1000</td>\n",
       "      <td>2018-12-28</td>\n",
       "      <td>660.40</td>\n",
       "    </tr>\n",
       "    <tr>\n",
       "      <th>3</th>\n",
       "      <td>1000_413</td>\n",
       "      <td>1000</td>\n",
       "      <td>2018-12-26</td>\n",
       "      <td>270.99</td>\n",
       "    </tr>\n",
       "    <tr>\n",
       "      <th>4</th>\n",
       "      <td>1000_442</td>\n",
       "      <td>1000</td>\n",
       "      <td>2018-12-27</td>\n",
       "      <td>880.22</td>\n",
       "    </tr>\n",
       "  </tbody>\n",
       "</table>\n",
       "</div>"
      ],
      "text/plain": [
       "         id  user_id session_date  mb_used\n",
       "0   1000_13     1000   2018-12-29    89.86\n",
       "1  1000_204     1000   2018-12-31     0.00\n",
       "2  1000_379     1000   2018-12-28   660.40\n",
       "3  1000_413     1000   2018-12-26   270.99\n",
       "4  1000_442     1000   2018-12-27   880.22"
      ]
     },
     "execution_count": 8,
     "metadata": {},
     "output_type": "execute_result"
    }
   ],
   "source": [
    "internet.head()"
   ]
  },
  {
   "attachments": {},
   "cell_type": "markdown",
   "metadata": {},
   "source": [
    "---"
   ]
  },
  {
   "attachments": {},
   "cell_type": "markdown",
   "metadata": {},
   "source": [
    "El datasets messages continene los siguientes campos:\n",
    "\n",
    "- `id` — identificador único del SMS\n",
    "- `message_date` — fecha del SMS\n",
    "- `user_id` — el identificador del usuario que manda el SMS"
   ]
  },
  {
   "attachments": {},
   "cell_type": "markdown",
   "metadata": {},
   "source": [
    "El dataframe **\"messages\"** almacena información sobre los mensajes enviados por cada usuario de Megaline."
   ]
  },
  {
   "cell_type": "code",
   "execution_count": 9,
   "metadata": {},
   "outputs": [
    {
     "name": "stdout",
     "output_type": "stream",
     "text": [
      "<class 'pandas.core.frame.DataFrame'>\n",
      "RangeIndex: 76051 entries, 0 to 76050\n",
      "Data columns (total 3 columns):\n",
      " #   Column        Non-Null Count  Dtype \n",
      "---  ------        --------------  ----- \n",
      " 0   id            76051 non-null  object\n",
      " 1   user_id       76051 non-null  int64 \n",
      " 2   message_date  76051 non-null  object\n",
      "dtypes: int64(1), object(2)\n",
      "memory usage: 1.7+ MB\n"
     ]
    }
   ],
   "source": [
    "messages.info()"
   ]
  },
  {
   "attachments": {},
   "cell_type": "markdown",
   "metadata": {},
   "source": [
    "Tenemos que convertir la columna **\"message_date\"** necesitan ser convertidos a tipo datetime"
   ]
  },
  {
   "cell_type": "code",
   "execution_count": 10,
   "metadata": {},
   "outputs": [
    {
     "data": {
      "text/html": [
       "<div>\n",
       "<style scoped>\n",
       "    .dataframe tbody tr th:only-of-type {\n",
       "        vertical-align: middle;\n",
       "    }\n",
       "\n",
       "    .dataframe tbody tr th {\n",
       "        vertical-align: top;\n",
       "    }\n",
       "\n",
       "    .dataframe thead th {\n",
       "        text-align: right;\n",
       "    }\n",
       "</style>\n",
       "<table border=\"1\" class=\"dataframe\">\n",
       "  <thead>\n",
       "    <tr style=\"text-align: right;\">\n",
       "      <th></th>\n",
       "      <th>id</th>\n",
       "      <th>user_id</th>\n",
       "      <th>message_date</th>\n",
       "    </tr>\n",
       "  </thead>\n",
       "  <tbody>\n",
       "    <tr>\n",
       "      <th>0</th>\n",
       "      <td>1000_125</td>\n",
       "      <td>1000</td>\n",
       "      <td>2018-12-27</td>\n",
       "    </tr>\n",
       "    <tr>\n",
       "      <th>1</th>\n",
       "      <td>1000_160</td>\n",
       "      <td>1000</td>\n",
       "      <td>2018-12-31</td>\n",
       "    </tr>\n",
       "    <tr>\n",
       "      <th>2</th>\n",
       "      <td>1000_223</td>\n",
       "      <td>1000</td>\n",
       "      <td>2018-12-31</td>\n",
       "    </tr>\n",
       "    <tr>\n",
       "      <th>3</th>\n",
       "      <td>1000_251</td>\n",
       "      <td>1000</td>\n",
       "      <td>2018-12-27</td>\n",
       "    </tr>\n",
       "    <tr>\n",
       "      <th>4</th>\n",
       "      <td>1000_255</td>\n",
       "      <td>1000</td>\n",
       "      <td>2018-12-26</td>\n",
       "    </tr>\n",
       "  </tbody>\n",
       "</table>\n",
       "</div>"
      ],
      "text/plain": [
       "         id  user_id message_date\n",
       "0  1000_125     1000   2018-12-27\n",
       "1  1000_160     1000   2018-12-31\n",
       "2  1000_223     1000   2018-12-31\n",
       "3  1000_251     1000   2018-12-27\n",
       "4  1000_255     1000   2018-12-26"
      ]
     },
     "execution_count": 10,
     "metadata": {},
     "output_type": "execute_result"
    }
   ],
   "source": [
    "messages.head()"
   ]
  },
  {
   "attachments": {},
   "cell_type": "markdown",
   "metadata": {},
   "source": [
    "---"
   ]
  },
  {
   "attachments": {},
   "cell_type": "markdown",
   "metadata": {},
   "source": [
    "El datasets plans continene los siguientes campos:\n",
    "\n",
    "- `plan_name` — nombre de la tarifa\n",
    "- `usd_monthly_fee` — pago mensual en dólares estadounidenses\n",
    "- `minutes_included` — minutos incluidos al mes\n",
    "- `messages_included` — SMS incluidos al mes\n",
    "- `mb_per_month_included` — datos incluidos al mes (en megabytes)\n",
    "- `usd_per_minute` — precio por minuto tras exceder los límites del paquete (por ejemplo, si el paquete incluye 100 minutos el operador cobrará el minuto 101)\n",
    "- `usd_per_message` — precio por SMS tras exceder los límites del paquete\n",
    "- `usd_per_gb` — precio por gigabyte de los datos extra tras exceder los límites del paquete (1 GB = 1024 megabytes)"
   ]
  },
  {
   "attachments": {},
   "cell_type": "markdown",
   "metadata": {},
   "source": [
    "El dataframe **\"plans\"** almacena información sobre los planes ofrecidos por la compañia Megaline."
   ]
  },
  {
   "cell_type": "code",
   "execution_count": 11,
   "metadata": {},
   "outputs": [
    {
     "name": "stdout",
     "output_type": "stream",
     "text": [
      "<class 'pandas.core.frame.DataFrame'>\n",
      "RangeIndex: 2 entries, 0 to 1\n",
      "Data columns (total 8 columns):\n",
      " #   Column                 Non-Null Count  Dtype  \n",
      "---  ------                 --------------  -----  \n",
      " 0   messages_included      2 non-null      int64  \n",
      " 1   mb_per_month_included  2 non-null      int64  \n",
      " 2   minutes_included       2 non-null      int64  \n",
      " 3   usd_monthly_pay        2 non-null      int64  \n",
      " 4   usd_per_gb             2 non-null      int64  \n",
      " 5   usd_per_message        2 non-null      float64\n",
      " 6   usd_per_minute         2 non-null      float64\n",
      " 7   plan_name              2 non-null      object \n",
      "dtypes: float64(2), int64(5), object(1)\n",
      "memory usage: 256.0+ bytes\n"
     ]
    }
   ],
   "source": [
    "plans.info()"
   ]
  },
  {
   "cell_type": "code",
   "execution_count": 12,
   "metadata": {},
   "outputs": [
    {
     "data": {
      "text/html": [
       "<div>\n",
       "<style scoped>\n",
       "    .dataframe tbody tr th:only-of-type {\n",
       "        vertical-align: middle;\n",
       "    }\n",
       "\n",
       "    .dataframe tbody tr th {\n",
       "        vertical-align: top;\n",
       "    }\n",
       "\n",
       "    .dataframe thead th {\n",
       "        text-align: right;\n",
       "    }\n",
       "</style>\n",
       "<table border=\"1\" class=\"dataframe\">\n",
       "  <thead>\n",
       "    <tr style=\"text-align: right;\">\n",
       "      <th></th>\n",
       "      <th>messages_included</th>\n",
       "      <th>mb_per_month_included</th>\n",
       "      <th>minutes_included</th>\n",
       "      <th>usd_monthly_pay</th>\n",
       "      <th>usd_per_gb</th>\n",
       "      <th>usd_per_message</th>\n",
       "      <th>usd_per_minute</th>\n",
       "      <th>plan_name</th>\n",
       "    </tr>\n",
       "  </thead>\n",
       "  <tbody>\n",
       "    <tr>\n",
       "      <th>0</th>\n",
       "      <td>50</td>\n",
       "      <td>15360</td>\n",
       "      <td>500</td>\n",
       "      <td>20</td>\n",
       "      <td>10</td>\n",
       "      <td>0.03</td>\n",
       "      <td>0.03</td>\n",
       "      <td>surf</td>\n",
       "    </tr>\n",
       "    <tr>\n",
       "      <th>1</th>\n",
       "      <td>1000</td>\n",
       "      <td>30720</td>\n",
       "      <td>3000</td>\n",
       "      <td>70</td>\n",
       "      <td>7</td>\n",
       "      <td>0.01</td>\n",
       "      <td>0.01</td>\n",
       "      <td>ultimate</td>\n",
       "    </tr>\n",
       "  </tbody>\n",
       "</table>\n",
       "</div>"
      ],
      "text/plain": [
       "   messages_included  mb_per_month_included  minutes_included  \\\n",
       "0                 50                  15360               500   \n",
       "1               1000                  30720              3000   \n",
       "\n",
       "   usd_monthly_pay  usd_per_gb  usd_per_message  usd_per_minute plan_name  \n",
       "0               20          10             0.03            0.03      surf  \n",
       "1               70           7             0.01            0.01  ultimate  "
      ]
     },
     "execution_count": 12,
     "metadata": {},
     "output_type": "execute_result"
    }
   ],
   "source": [
    "plans.head()"
   ]
  },
  {
   "attachments": {},
   "cell_type": "markdown",
   "metadata": {},
   "source": [
    "---"
   ]
  },
  {
   "attachments": {},
   "cell_type": "markdown",
   "metadata": {},
   "source": [
    "El datasets users continene los siguientes campos:\n",
    "\n",
    "- `user_id` — identificador único del usuario\n",
    "- `first_name` — nombre del usuario\n",
    "- `last_name` — apellido del usuario\n",
    "- `age` — edad del usuario (en años)\n",
    "- `reg_date` — fecha de suscripción (dd, mm, aa)\n",
    "- `churn_date` — la fecha en que el usuario dejó de usar el servicio (si el valor es ausente, la tarifa se estaba usando cuando se recuperaron estos datos)\n",
    "- `city` — ciudad de residencia del usuario\n",
    "- `plan` — nombre de la tarifa"
   ]
  },
  {
   "attachments": {},
   "cell_type": "markdown",
   "metadata": {},
   "source": [
    "EL dataframe **\"users\"** contiene informacion sobre los usuarios."
   ]
  },
  {
   "cell_type": "code",
   "execution_count": 13,
   "metadata": {},
   "outputs": [
    {
     "name": "stdout",
     "output_type": "stream",
     "text": [
      "<class 'pandas.core.frame.DataFrame'>\n",
      "RangeIndex: 500 entries, 0 to 499\n",
      "Data columns (total 8 columns):\n",
      " #   Column      Non-Null Count  Dtype \n",
      "---  ------      --------------  ----- \n",
      " 0   user_id     500 non-null    int64 \n",
      " 1   first_name  500 non-null    object\n",
      " 2   last_name   500 non-null    object\n",
      " 3   age         500 non-null    int64 \n",
      " 4   city        500 non-null    object\n",
      " 5   reg_date    500 non-null    object\n",
      " 6   plan        500 non-null    object\n",
      " 7   churn_date  34 non-null     object\n",
      "dtypes: int64(2), object(6)\n",
      "memory usage: 31.4+ KB\n"
     ]
    }
   ],
   "source": [
    "users.info()"
   ]
  },
  {
   "cell_type": "code",
   "execution_count": 14,
   "metadata": {},
   "outputs": [
    {
     "data": {
      "text/html": [
       "<div>\n",
       "<style scoped>\n",
       "    .dataframe tbody tr th:only-of-type {\n",
       "        vertical-align: middle;\n",
       "    }\n",
       "\n",
       "    .dataframe tbody tr th {\n",
       "        vertical-align: top;\n",
       "    }\n",
       "\n",
       "    .dataframe thead th {\n",
       "        text-align: right;\n",
       "    }\n",
       "</style>\n",
       "<table border=\"1\" class=\"dataframe\">\n",
       "  <thead>\n",
       "    <tr style=\"text-align: right;\">\n",
       "      <th></th>\n",
       "      <th>user_id</th>\n",
       "      <th>first_name</th>\n",
       "      <th>last_name</th>\n",
       "      <th>age</th>\n",
       "      <th>city</th>\n",
       "      <th>reg_date</th>\n",
       "      <th>plan</th>\n",
       "      <th>churn_date</th>\n",
       "    </tr>\n",
       "  </thead>\n",
       "  <tbody>\n",
       "    <tr>\n",
       "      <th>0</th>\n",
       "      <td>1000</td>\n",
       "      <td>Anamaria</td>\n",
       "      <td>Bauer</td>\n",
       "      <td>45</td>\n",
       "      <td>Atlanta-Sandy Springs-Roswell, GA MSA</td>\n",
       "      <td>2018-12-24</td>\n",
       "      <td>ultimate</td>\n",
       "      <td>NaN</td>\n",
       "    </tr>\n",
       "    <tr>\n",
       "      <th>1</th>\n",
       "      <td>1001</td>\n",
       "      <td>Mickey</td>\n",
       "      <td>Wilkerson</td>\n",
       "      <td>28</td>\n",
       "      <td>Seattle-Tacoma-Bellevue, WA MSA</td>\n",
       "      <td>2018-08-13</td>\n",
       "      <td>surf</td>\n",
       "      <td>NaN</td>\n",
       "    </tr>\n",
       "    <tr>\n",
       "      <th>2</th>\n",
       "      <td>1002</td>\n",
       "      <td>Carlee</td>\n",
       "      <td>Hoffman</td>\n",
       "      <td>36</td>\n",
       "      <td>Las Vegas-Henderson-Paradise, NV MSA</td>\n",
       "      <td>2018-10-21</td>\n",
       "      <td>surf</td>\n",
       "      <td>NaN</td>\n",
       "    </tr>\n",
       "    <tr>\n",
       "      <th>3</th>\n",
       "      <td>1003</td>\n",
       "      <td>Reynaldo</td>\n",
       "      <td>Jenkins</td>\n",
       "      <td>52</td>\n",
       "      <td>Tulsa, OK MSA</td>\n",
       "      <td>2018-01-28</td>\n",
       "      <td>surf</td>\n",
       "      <td>NaN</td>\n",
       "    </tr>\n",
       "    <tr>\n",
       "      <th>4</th>\n",
       "      <td>1004</td>\n",
       "      <td>Leonila</td>\n",
       "      <td>Thompson</td>\n",
       "      <td>40</td>\n",
       "      <td>Seattle-Tacoma-Bellevue, WA MSA</td>\n",
       "      <td>2018-05-23</td>\n",
       "      <td>surf</td>\n",
       "      <td>NaN</td>\n",
       "    </tr>\n",
       "  </tbody>\n",
       "</table>\n",
       "</div>"
      ],
      "text/plain": [
       "   user_id first_name  last_name  age                                   city  \\\n",
       "0     1000   Anamaria      Bauer   45  Atlanta-Sandy Springs-Roswell, GA MSA   \n",
       "1     1001     Mickey  Wilkerson   28        Seattle-Tacoma-Bellevue, WA MSA   \n",
       "2     1002     Carlee    Hoffman   36   Las Vegas-Henderson-Paradise, NV MSA   \n",
       "3     1003   Reynaldo    Jenkins   52                          Tulsa, OK MSA   \n",
       "4     1004    Leonila   Thompson   40        Seattle-Tacoma-Bellevue, WA MSA   \n",
       "\n",
       "     reg_date      plan churn_date  \n",
       "0  2018-12-24  ultimate        NaN  \n",
       "1  2018-08-13      surf        NaN  \n",
       "2  2018-10-21      surf        NaN  \n",
       "3  2018-01-28      surf        NaN  \n",
       "4  2018-05-23      surf        NaN  "
      ]
     },
     "execution_count": 14,
     "metadata": {},
     "output_type": "execute_result"
    }
   ],
   "source": [
    "users.head()"
   ]
  },
  {
   "attachments": {},
   "cell_type": "markdown",
   "metadata": {},
   "source": [
    "- **conclusión**\n",
    "\n",
    "Hemos analisado los dataframe de datos que nos han proporcionado y hemos detectado algunos problemas problemas que deben resolverse antes de proceder a un analisis.\n",
    "\n",
    "---"
   ]
  },
  {
   "attachments": {},
   "cell_type": "markdown",
   "metadata": {},
   "source": [
    "### **Procesamiento de datos**"
   ]
  },
  {
   "attachments": {},
   "cell_type": "markdown",
   "metadata": {},
   "source": [
    "### Dataframe **calls**\n",
    "- En primer lugar, redondearemos los valores de la columna **\"duration\"**. utilizaremos el método 'np.ceil'"
   ]
  },
  {
   "cell_type": "code",
   "execution_count": 15,
   "metadata": {},
   "outputs": [
    {
     "name": "stdout",
     "output_type": "stream",
     "text": [
      "<class 'pandas.core.frame.DataFrame'>\n",
      "RangeIndex: 137735 entries, 0 to 137734\n",
      "Data columns (total 4 columns):\n",
      " #   Column     Non-Null Count   Dtype         \n",
      "---  ------     --------------   -----         \n",
      " 0   id         137735 non-null  object        \n",
      " 1   user_id    137735 non-null  int64         \n",
      " 2   call_date  137735 non-null  datetime64[ns]\n",
      " 3   duration   137735 non-null  int32         \n",
      "dtypes: datetime64[ns](1), int32(1), int64(1), object(1)\n",
      "memory usage: 3.7+ MB\n"
     ]
    }
   ],
   "source": [
    "#el método np.ceil para redondear sus valores y luego los conviertimos a \"int\"  enteros\n",
    "calls['duration'] = calls['duration'].apply(np.ceil).astype('int')\n",
    "\n",
    "#esto convierte los valores 'call_date' a tipo datetime utilizando el formato \"%Y-%m-%d\"\n",
    "calls['call_date'] = pd.to_datetime(calls['call_date'], format='%Y-%m-%d')\n",
    "\n",
    "#mostraremos info general para ver los cambios efectuados\n",
    "calls.info(verbose=True)"
   ]
  },
  {
   "attachments": {},
   "cell_type": "markdown",
   "metadata": {},
   "source": [
    "Añadiremos ahora unas columnas que nos indique el dia nombre del dia, mes y el año en que se realizó cada llamada. Podemos extraer el nombre del mes de la fecha utilizando el método dt.day_name(), \"dt.month_name()\", \"dt.year\". Llamaremos a nuestras nuevas columnas \"weekday\", \"month\", \"year\"."
   ]
  },
  {
   "cell_type": "code",
   "execution_count": 16,
   "metadata": {},
   "outputs": [],
   "source": [
    "#extrae el nombre del mes de la columna call_date y lo guarda en nuestra nueva columna \"month\"\n",
    "calls['month'] = calls['call_date'].dt.month_name()\n"
   ]
  },
  {
   "cell_type": "code",
   "execution_count": 17,
   "metadata": {},
   "outputs": [
    {
     "data": {
      "text/html": [
       "<div>\n",
       "<style scoped>\n",
       "    .dataframe tbody tr th:only-of-type {\n",
       "        vertical-align: middle;\n",
       "    }\n",
       "\n",
       "    .dataframe tbody tr th {\n",
       "        vertical-align: top;\n",
       "    }\n",
       "\n",
       "    .dataframe thead th {\n",
       "        text-align: right;\n",
       "    }\n",
       "</style>\n",
       "<table border=\"1\" class=\"dataframe\">\n",
       "  <thead>\n",
       "    <tr style=\"text-align: right;\">\n",
       "      <th></th>\n",
       "      <th>id</th>\n",
       "      <th>user_id</th>\n",
       "      <th>call_date</th>\n",
       "      <th>duration</th>\n",
       "      <th>month</th>\n",
       "    </tr>\n",
       "  </thead>\n",
       "  <tbody>\n",
       "    <tr>\n",
       "      <th>0</th>\n",
       "      <td>1000_93</td>\n",
       "      <td>1000</td>\n",
       "      <td>2018-12-27</td>\n",
       "      <td>9</td>\n",
       "      <td>December</td>\n",
       "    </tr>\n",
       "    <tr>\n",
       "      <th>1</th>\n",
       "      <td>1000_145</td>\n",
       "      <td>1000</td>\n",
       "      <td>2018-12-27</td>\n",
       "      <td>14</td>\n",
       "      <td>December</td>\n",
       "    </tr>\n",
       "    <tr>\n",
       "      <th>2</th>\n",
       "      <td>1000_247</td>\n",
       "      <td>1000</td>\n",
       "      <td>2018-12-27</td>\n",
       "      <td>15</td>\n",
       "      <td>December</td>\n",
       "    </tr>\n",
       "    <tr>\n",
       "      <th>3</th>\n",
       "      <td>1000_309</td>\n",
       "      <td>1000</td>\n",
       "      <td>2018-12-28</td>\n",
       "      <td>6</td>\n",
       "      <td>December</td>\n",
       "    </tr>\n",
       "    <tr>\n",
       "      <th>4</th>\n",
       "      <td>1000_380</td>\n",
       "      <td>1000</td>\n",
       "      <td>2018-12-30</td>\n",
       "      <td>5</td>\n",
       "      <td>December</td>\n",
       "    </tr>\n",
       "  </tbody>\n",
       "</table>\n",
       "</div>"
      ],
      "text/plain": [
       "         id  user_id  call_date  duration     month\n",
       "0   1000_93     1000 2018-12-27         9  December\n",
       "1  1000_145     1000 2018-12-27        14  December\n",
       "2  1000_247     1000 2018-12-27        15  December\n",
       "3  1000_309     1000 2018-12-28         6  December\n",
       "4  1000_380     1000 2018-12-30         5  December"
      ]
     },
     "execution_count": 17,
     "metadata": {},
     "output_type": "execute_result"
    }
   ],
   "source": [
    "calls.head()"
   ]
  },
  {
   "attachments": {},
   "cell_type": "markdown",
   "metadata": {},
   "source": [
    "---"
   ]
  },
  {
   "attachments": {},
   "cell_type": "markdown",
   "metadata": {},
   "source": [
    "### Dataframe **internet**:\n",
    "\n",
    "- En primer lugar, convirtamos los valores de la columna 'mb_used' de megabytes a gigabytes (1GB = 1024MB).\n",
    "- A continuación, podemos redondear esos valores con el metodo **np.ceil** y cambiar el nombre de la columna con el metodo **.rename()**."
   ]
  },
  {
   "cell_type": "code",
   "execution_count": 18,
   "metadata": {},
   "outputs": [
    {
     "name": "stdout",
     "output_type": "stream",
     "text": [
      "<class 'pandas.core.frame.DataFrame'>\n",
      "RangeIndex: 104825 entries, 0 to 104824\n",
      "Data columns (total 4 columns):\n",
      " #   Column        Non-Null Count   Dtype \n",
      "---  ------        --------------   ----- \n",
      " 0   id            104825 non-null  object\n",
      " 1   user_id       104825 non-null  int64 \n",
      " 2   session_date  104825 non-null  object\n",
      " 3   gb_used       104825 non-null  int32 \n",
      "dtypes: int32(1), int64(1), object(2)\n",
      "memory usage: 2.8+ MB\n"
     ]
    }
   ],
   "source": [
    "#dividimos los valores de la columna \"mb_used\" entre 1024 para convertirlos en Gigabytes\n",
    "internet['mb_used'] = internet['mb_used']/1024\n",
    "\n",
    "#redondeamos los valores y los convierte en enteros\n",
    "internet['mb_used'] = internet['mb_used'].apply(np.ceil).astype('int')\n",
    "\n",
    "#renombramos el nombre de la columna de mb_used a gb_used con el metodo .rename()\n",
    "internet = internet.rename(columns={'mb_used': 'gb_used'})\n",
    "\n",
    "\n",
    "internet.info(verbose=True) #displays general information after the changes"
   ]
  },
  {
   "attachments": {},
   "cell_type": "markdown",
   "metadata": {},
   "source": [
    "Vamos a convertir la columna 'session_date' a tipo datetime. El mismo ejercicio que anterior con el método 'pd.to_datetime' con el parámetro format='%Y-%m-%d'."
   ]
  },
  {
   "cell_type": "code",
   "execution_count": 19,
   "metadata": {},
   "outputs": [
    {
     "name": "stdout",
     "output_type": "stream",
     "text": [
      "<class 'pandas.core.frame.DataFrame'>\n",
      "RangeIndex: 104825 entries, 0 to 104824\n",
      "Data columns (total 4 columns):\n",
      " #   Column        Non-Null Count   Dtype         \n",
      "---  ------        --------------   -----         \n",
      " 0   id            104825 non-null  object        \n",
      " 1   user_id       104825 non-null  int64         \n",
      " 2   session_date  104825 non-null  datetime64[ns]\n",
      " 3   gb_used       104825 non-null  int32         \n",
      "dtypes: datetime64[ns](1), int32(1), int64(1), object(1)\n",
      "memory usage: 2.8+ MB\n"
     ]
    }
   ],
   "source": [
    "internet['session_date'] = pd.to_datetime(internet['session_date'], format='%Y-%m-%d')\n",
    "internet.info(verbose=True)"
   ]
  },
  {
   "attachments": {},
   "cell_type": "markdown",
   "metadata": {},
   "source": [
    "Crearemos una columna llamada **\"month\"** que extraiga el nombre del mes de la columna **\"session_date\"**."
   ]
  },
  {
   "cell_type": "code",
   "execution_count": 20,
   "metadata": {},
   "outputs": [],
   "source": [
    "#extrae el nombre del mes de la columna call_date y lo guarda en nuestra nueva columna \"month\"\n",
    "internet['month'] = internet['session_date'].dt.month_name()"
   ]
  },
  {
   "cell_type": "code",
   "execution_count": 21,
   "metadata": {},
   "outputs": [
    {
     "data": {
      "text/html": [
       "<div>\n",
       "<style scoped>\n",
       "    .dataframe tbody tr th:only-of-type {\n",
       "        vertical-align: middle;\n",
       "    }\n",
       "\n",
       "    .dataframe tbody tr th {\n",
       "        vertical-align: top;\n",
       "    }\n",
       "\n",
       "    .dataframe thead th {\n",
       "        text-align: right;\n",
       "    }\n",
       "</style>\n",
       "<table border=\"1\" class=\"dataframe\">\n",
       "  <thead>\n",
       "    <tr style=\"text-align: right;\">\n",
       "      <th></th>\n",
       "      <th>id</th>\n",
       "      <th>user_id</th>\n",
       "      <th>session_date</th>\n",
       "      <th>gb_used</th>\n",
       "      <th>month</th>\n",
       "    </tr>\n",
       "  </thead>\n",
       "  <tbody>\n",
       "    <tr>\n",
       "      <th>0</th>\n",
       "      <td>1000_13</td>\n",
       "      <td>1000</td>\n",
       "      <td>2018-12-29</td>\n",
       "      <td>1</td>\n",
       "      <td>December</td>\n",
       "    </tr>\n",
       "    <tr>\n",
       "      <th>1</th>\n",
       "      <td>1000_204</td>\n",
       "      <td>1000</td>\n",
       "      <td>2018-12-31</td>\n",
       "      <td>0</td>\n",
       "      <td>December</td>\n",
       "    </tr>\n",
       "    <tr>\n",
       "      <th>2</th>\n",
       "      <td>1000_379</td>\n",
       "      <td>1000</td>\n",
       "      <td>2018-12-28</td>\n",
       "      <td>1</td>\n",
       "      <td>December</td>\n",
       "    </tr>\n",
       "    <tr>\n",
       "      <th>3</th>\n",
       "      <td>1000_413</td>\n",
       "      <td>1000</td>\n",
       "      <td>2018-12-26</td>\n",
       "      <td>1</td>\n",
       "      <td>December</td>\n",
       "    </tr>\n",
       "    <tr>\n",
       "      <th>4</th>\n",
       "      <td>1000_442</td>\n",
       "      <td>1000</td>\n",
       "      <td>2018-12-27</td>\n",
       "      <td>1</td>\n",
       "      <td>December</td>\n",
       "    </tr>\n",
       "  </tbody>\n",
       "</table>\n",
       "</div>"
      ],
      "text/plain": [
       "         id  user_id session_date  gb_used     month\n",
       "0   1000_13     1000   2018-12-29        1  December\n",
       "1  1000_204     1000   2018-12-31        0  December\n",
       "2  1000_379     1000   2018-12-28        1  December\n",
       "3  1000_413     1000   2018-12-26        1  December\n",
       "4  1000_442     1000   2018-12-27        1  December"
      ]
     },
     "execution_count": 21,
     "metadata": {},
     "output_type": "execute_result"
    }
   ],
   "source": [
    "internet.head()"
   ]
  },
  {
   "attachments": {},
   "cell_type": "markdown",
   "metadata": {},
   "source": [
    "---"
   ]
  },
  {
   "attachments": {},
   "cell_type": "markdown",
   "metadata": {},
   "source": [
    "### Datadrame **messages**:\n",
    "\n",
    "En primer lugar, convertiremos los valores de la columna 'message_date' a tipo datatime. como anteriormente hemos hecho"
   ]
  },
  {
   "cell_type": "code",
   "execution_count": 22,
   "metadata": {},
   "outputs": [
    {
     "name": "stdout",
     "output_type": "stream",
     "text": [
      "<class 'pandas.core.frame.DataFrame'>\n",
      "RangeIndex: 76051 entries, 0 to 76050\n",
      "Data columns (total 3 columns):\n",
      " #   Column        Non-Null Count  Dtype         \n",
      "---  ------        --------------  -----         \n",
      " 0   id            76051 non-null  object        \n",
      " 1   user_id       76051 non-null  int64         \n",
      " 2   message_date  76051 non-null  datetime64[ns]\n",
      "dtypes: datetime64[ns](1), int64(1), object(1)\n",
      "memory usage: 1.7+ MB\n"
     ]
    }
   ],
   "source": [
    "messages['message_date'] = pd.to_datetime(messages['message_date'], format='%Y-%m-%d')\n",
    "#converts message_date values to date-time type with the appropriate format\n",
    "\n",
    "messages.info(verbose=True) #general info after changes"
   ]
  },
  {
   "attachments": {},
   "cell_type": "markdown",
   "metadata": {},
   "source": [
    "Crearemos columnas que nos indique el dia nombre del dia, mes y el año en que se realizó cada mensaje. De la columna message_date utilizando el método dt.day_name(), \"dt.month_name()\", \"dt.year\". Llamaremos a nuestras nuevas columnas \"weekday\", \"month\", \"year\"."
   ]
  },
  {
   "cell_type": "code",
   "execution_count": 23,
   "metadata": {},
   "outputs": [],
   "source": [
    "#extrae el nombre del mes de la columna call_date y lo guarda en nuestra nueva columna \"month\"\n",
    "messages['month'] = messages['message_date'].dt.month_name()"
   ]
  },
  {
   "cell_type": "code",
   "execution_count": 24,
   "metadata": {},
   "outputs": [
    {
     "data": {
      "text/html": [
       "<div>\n",
       "<style scoped>\n",
       "    .dataframe tbody tr th:only-of-type {\n",
       "        vertical-align: middle;\n",
       "    }\n",
       "\n",
       "    .dataframe tbody tr th {\n",
       "        vertical-align: top;\n",
       "    }\n",
       "\n",
       "    .dataframe thead th {\n",
       "        text-align: right;\n",
       "    }\n",
       "</style>\n",
       "<table border=\"1\" class=\"dataframe\">\n",
       "  <thead>\n",
       "    <tr style=\"text-align: right;\">\n",
       "      <th></th>\n",
       "      <th>id</th>\n",
       "      <th>user_id</th>\n",
       "      <th>message_date</th>\n",
       "      <th>month</th>\n",
       "    </tr>\n",
       "  </thead>\n",
       "  <tbody>\n",
       "    <tr>\n",
       "      <th>0</th>\n",
       "      <td>1000_125</td>\n",
       "      <td>1000</td>\n",
       "      <td>2018-12-27</td>\n",
       "      <td>December</td>\n",
       "    </tr>\n",
       "    <tr>\n",
       "      <th>1</th>\n",
       "      <td>1000_160</td>\n",
       "      <td>1000</td>\n",
       "      <td>2018-12-31</td>\n",
       "      <td>December</td>\n",
       "    </tr>\n",
       "    <tr>\n",
       "      <th>2</th>\n",
       "      <td>1000_223</td>\n",
       "      <td>1000</td>\n",
       "      <td>2018-12-31</td>\n",
       "      <td>December</td>\n",
       "    </tr>\n",
       "    <tr>\n",
       "      <th>3</th>\n",
       "      <td>1000_251</td>\n",
       "      <td>1000</td>\n",
       "      <td>2018-12-27</td>\n",
       "      <td>December</td>\n",
       "    </tr>\n",
       "    <tr>\n",
       "      <th>4</th>\n",
       "      <td>1000_255</td>\n",
       "      <td>1000</td>\n",
       "      <td>2018-12-26</td>\n",
       "      <td>December</td>\n",
       "    </tr>\n",
       "  </tbody>\n",
       "</table>\n",
       "</div>"
      ],
      "text/plain": [
       "         id  user_id message_date     month\n",
       "0  1000_125     1000   2018-12-27  December\n",
       "1  1000_160     1000   2018-12-31  December\n",
       "2  1000_223     1000   2018-12-31  December\n",
       "3  1000_251     1000   2018-12-27  December\n",
       "4  1000_255     1000   2018-12-26  December"
      ]
     },
     "execution_count": 24,
     "metadata": {},
     "output_type": "execute_result"
    }
   ],
   "source": [
    "messages.head()"
   ]
  },
  {
   "attachments": {},
   "cell_type": "markdown",
   "metadata": {},
   "source": [
    "---"
   ]
  },
  {
   "attachments": {},
   "cell_type": "markdown",
   "metadata": {},
   "source": [
    "### Dataframe **plans**:\n",
    "\n",
    "Vamos a convertir los megabytes a gigabytes de la columna **\"mb_per_month_included\"** dividiendo por 1024 como anteriormente y renombrar la columna 'gb_per_month_included'"
   ]
  },
  {
   "cell_type": "code",
   "execution_count": 25,
   "metadata": {},
   "outputs": [
    {
     "name": "stdout",
     "output_type": "stream",
     "text": [
      "<class 'pandas.core.frame.DataFrame'>\n",
      "RangeIndex: 2 entries, 0 to 1\n",
      "Data columns (total 8 columns):\n",
      " #   Column                 Non-Null Count  Dtype  \n",
      "---  ------                 --------------  -----  \n",
      " 0   messages_included      2 non-null      int64  \n",
      " 1   gb_per_month_included  2 non-null      float64\n",
      " 2   minutes_included       2 non-null      int64  \n",
      " 3   usd_monthly_pay        2 non-null      int64  \n",
      " 4   usd_per_gb             2 non-null      int64  \n",
      " 5   usd_per_message        2 non-null      float64\n",
      " 6   usd_per_minute         2 non-null      float64\n",
      " 7   plan_name              2 non-null      object \n",
      "dtypes: float64(3), int64(4), object(1)\n",
      "memory usage: 256.0+ bytes\n"
     ]
    }
   ],
   "source": [
    "plans['mb_per_month_included'] = plans['mb_per_month_included']/1024\n",
    "#converts the values to gigabytes by dividing by 1024\n",
    "\n",
    "plans = plans.rename(columns={'mb_per_month_included':'gb_per_month_included'})\n",
    "#renames the 'mb_per_month_included' column to 'gb_per_month_included'\n",
    "\n",
    "plans.info(verbose=True)"
   ]
  },
  {
   "cell_type": "code",
   "execution_count": 26,
   "metadata": {},
   "outputs": [
    {
     "data": {
      "text/html": [
       "<div>\n",
       "<style scoped>\n",
       "    .dataframe tbody tr th:only-of-type {\n",
       "        vertical-align: middle;\n",
       "    }\n",
       "\n",
       "    .dataframe tbody tr th {\n",
       "        vertical-align: top;\n",
       "    }\n",
       "\n",
       "    .dataframe thead th {\n",
       "        text-align: right;\n",
       "    }\n",
       "</style>\n",
       "<table border=\"1\" class=\"dataframe\">\n",
       "  <thead>\n",
       "    <tr style=\"text-align: right;\">\n",
       "      <th></th>\n",
       "      <th>messages_included</th>\n",
       "      <th>gb_per_month_included</th>\n",
       "      <th>minutes_included</th>\n",
       "      <th>usd_monthly_pay</th>\n",
       "      <th>usd_per_gb</th>\n",
       "      <th>usd_per_message</th>\n",
       "      <th>usd_per_minute</th>\n",
       "      <th>plan_name</th>\n",
       "    </tr>\n",
       "  </thead>\n",
       "  <tbody>\n",
       "    <tr>\n",
       "      <th>0</th>\n",
       "      <td>50</td>\n",
       "      <td>15.0</td>\n",
       "      <td>500</td>\n",
       "      <td>20</td>\n",
       "      <td>10</td>\n",
       "      <td>0.03</td>\n",
       "      <td>0.03</td>\n",
       "      <td>surf</td>\n",
       "    </tr>\n",
       "    <tr>\n",
       "      <th>1</th>\n",
       "      <td>1000</td>\n",
       "      <td>30.0</td>\n",
       "      <td>3000</td>\n",
       "      <td>70</td>\n",
       "      <td>7</td>\n",
       "      <td>0.01</td>\n",
       "      <td>0.01</td>\n",
       "      <td>ultimate</td>\n",
       "    </tr>\n",
       "  </tbody>\n",
       "</table>\n",
       "</div>"
      ],
      "text/plain": [
       "   messages_included  gb_per_month_included  minutes_included  \\\n",
       "0                 50                   15.0               500   \n",
       "1               1000                   30.0              3000   \n",
       "\n",
       "   usd_monthly_pay  usd_per_gb  usd_per_message  usd_per_minute plan_name  \n",
       "0               20          10             0.03            0.03      surf  \n",
       "1               70           7             0.01            0.01  ultimate  "
      ]
     },
     "execution_count": 26,
     "metadata": {},
     "output_type": "execute_result"
    }
   ],
   "source": [
    "plans.head()"
   ]
  },
  {
   "attachments": {},
   "cell_type": "markdown",
   "metadata": {},
   "source": [
    "---"
   ]
  },
  {
   "attachments": {},
   "cell_type": "markdown",
   "metadata": {},
   "source": [
    "### Dataframe **users**:\n",
    "Aquí, todo lo que tenemos que hacer es convertir la columna **\"plan\"** a tipo de **\"category\"**"
   ]
  },
  {
   "cell_type": "code",
   "execution_count": 27,
   "metadata": {},
   "outputs": [
    {
     "name": "stdout",
     "output_type": "stream",
     "text": [
      "<class 'pandas.core.frame.DataFrame'>\n",
      "RangeIndex: 500 entries, 0 to 499\n",
      "Data columns (total 8 columns):\n",
      " #   Column      Non-Null Count  Dtype   \n",
      "---  ------      --------------  -----   \n",
      " 0   user_id     500 non-null    int64   \n",
      " 1   first_name  500 non-null    object  \n",
      " 2   last_name   500 non-null    object  \n",
      " 3   age         500 non-null    int64   \n",
      " 4   city        500 non-null    object  \n",
      " 5   reg_date    500 non-null    object  \n",
      " 6   plan        500 non-null    category\n",
      " 7   churn_date  34 non-null     object  \n",
      "dtypes: category(1), int64(2), object(5)\n",
      "memory usage: 28.1+ KB\n"
     ]
    }
   ],
   "source": [
    "#convertiremos la columna plan a tipo de category\n",
    "users['plan'] = users['plan'].astype('category')\n",
    "\n",
    "#mostraremos la ingo general para ver los cambios efectuados\n",
    "users.info(verbose=True)"
   ]
  },
  {
   "attachments": {},
   "cell_type": "markdown",
   "metadata": {},
   "source": [
    "---"
   ]
  },
  {
   "attachments": {},
   "cell_type": "markdown",
   "metadata": {},
   "source": [
    "El número de llamadas realizadas al mes\n",
    "---"
   ]
  },
  {
   "attachments": {},
   "cell_type": "markdown",
   "metadata": {},
   "source": [
    "Crearemos una nuevo dataframe llamada 'user_status' y la iniciaremos con algunas de las columnas de la tabla 'users'."
   ]
  },
  {
   "cell_type": "code",
   "execution_count": 28,
   "metadata": {},
   "outputs": [
    {
     "data": {
      "text/html": [
       "<div>\n",
       "<style scoped>\n",
       "    .dataframe tbody tr th:only-of-type {\n",
       "        vertical-align: middle;\n",
       "    }\n",
       "\n",
       "    .dataframe tbody tr th {\n",
       "        vertical-align: top;\n",
       "    }\n",
       "\n",
       "    .dataframe thead th {\n",
       "        text-align: right;\n",
       "    }\n",
       "</style>\n",
       "<table border=\"1\" class=\"dataframe\">\n",
       "  <thead>\n",
       "    <tr style=\"text-align: right;\">\n",
       "      <th></th>\n",
       "      <th>user_id</th>\n",
       "      <th>first_name</th>\n",
       "      <th>last_name</th>\n",
       "      <th>city</th>\n",
       "      <th>plan</th>\n",
       "    </tr>\n",
       "  </thead>\n",
       "  <tbody>\n",
       "    <tr>\n",
       "      <th>0</th>\n",
       "      <td>1000</td>\n",
       "      <td>Anamaria</td>\n",
       "      <td>Bauer</td>\n",
       "      <td>Atlanta-Sandy Springs-Roswell, GA MSA</td>\n",
       "      <td>ultimate</td>\n",
       "    </tr>\n",
       "    <tr>\n",
       "      <th>1</th>\n",
       "      <td>1001</td>\n",
       "      <td>Mickey</td>\n",
       "      <td>Wilkerson</td>\n",
       "      <td>Seattle-Tacoma-Bellevue, WA MSA</td>\n",
       "      <td>surf</td>\n",
       "    </tr>\n",
       "    <tr>\n",
       "      <th>2</th>\n",
       "      <td>1002</td>\n",
       "      <td>Carlee</td>\n",
       "      <td>Hoffman</td>\n",
       "      <td>Las Vegas-Henderson-Paradise, NV MSA</td>\n",
       "      <td>surf</td>\n",
       "    </tr>\n",
       "    <tr>\n",
       "      <th>3</th>\n",
       "      <td>1003</td>\n",
       "      <td>Reynaldo</td>\n",
       "      <td>Jenkins</td>\n",
       "      <td>Tulsa, OK MSA</td>\n",
       "      <td>surf</td>\n",
       "    </tr>\n",
       "    <tr>\n",
       "      <th>4</th>\n",
       "      <td>1004</td>\n",
       "      <td>Leonila</td>\n",
       "      <td>Thompson</td>\n",
       "      <td>Seattle-Tacoma-Bellevue, WA MSA</td>\n",
       "      <td>surf</td>\n",
       "    </tr>\n",
       "  </tbody>\n",
       "</table>\n",
       "</div>"
      ],
      "text/plain": [
       "   user_id first_name  last_name                                   city  \\\n",
       "0     1000   Anamaria      Bauer  Atlanta-Sandy Springs-Roswell, GA MSA   \n",
       "1     1001     Mickey  Wilkerson        Seattle-Tacoma-Bellevue, WA MSA   \n",
       "2     1002     Carlee    Hoffman   Las Vegas-Henderson-Paradise, NV MSA   \n",
       "3     1003   Reynaldo    Jenkins                          Tulsa, OK MSA   \n",
       "4     1004    Leonila   Thompson        Seattle-Tacoma-Bellevue, WA MSA   \n",
       "\n",
       "       plan  \n",
       "0  ultimate  \n",
       "1      surf  \n",
       "2      surf  \n",
       "3      surf  \n",
       "4      surf  "
      ]
     },
     "execution_count": 28,
     "metadata": {},
     "output_type": "execute_result"
    }
   ],
   "source": [
    "#crearemos un nuevo dataframe user_status que contenga columnas del dataframe 'users'.\n",
    "user_status = users[['user_id', 'first_name', 'last_name', 'city', 'plan']]\n",
    "#user_status2 = calls[[\"duration\"]]\n",
    "\n",
    "#user_status = user_status1.join(user_status2)\n",
    "#y mostraremos nuestro nuevo dataframe\n",
    "user_status.head()"
   ]
  },
  {
   "attachments": {},
   "cell_type": "markdown",
   "metadata": {},
   "source": [
    "Crearemos una función llamada 'calls_x_month'. Esta función tomará un user_id como argumento. A continuación, esta función se aplicará a la columna 'user_id' de nuestra nueva tabla 'user_status'. Si hay alguna celda vacía en nuestras nuevas columnas para user_id's cuyo número de meses era cero, podemos rellenarlas con cero."
   ]
  },
  {
   "cell_type": "code",
   "execution_count": 29,
   "metadata": {},
   "outputs": [],
   "source": [
    "def calls_x_month(user_id): \n",
    "    user_calls_slice = calls.query('user_id == @user_id')\n",
    "    number_of_calls = len(user_calls_slice)\n",
    "    months = len(user_calls_slice['month'].unique())\n",
    "    if months > 0:\n",
    "        #crearemos una variable llamada x que almacena el resultado del número de llamadas dividido por el número de diferentes meses\n",
    "        x = number_of_calls/months\n",
    "        return x"
   ]
  },
  {
   "cell_type": "code",
   "execution_count": 30,
   "metadata": {},
   "outputs": [
    {
     "name": "stdout",
     "output_type": "stream",
     "text": [
      "<class 'pandas.core.frame.DataFrame'>\n",
      "RangeIndex: 500 entries, 0 to 499\n",
      "Data columns (total 6 columns):\n",
      " #   Column         Non-Null Count  Dtype   \n",
      "---  ------         --------------  -----   \n",
      " 0   user_id        500 non-null    int64   \n",
      " 1   first_name     500 non-null    object  \n",
      " 2   last_name      500 non-null    object  \n",
      " 3   city           500 non-null    object  \n",
      " 4   plan           500 non-null    category\n",
      " 5   calls_x_month  500 non-null    float64 \n",
      "dtypes: category(1), float64(1), int64(1), object(3)\n",
      "memory usage: 20.3+ KB\n"
     ]
    },
    {
     "name": "stderr",
     "output_type": "stream",
     "text": [
      "C:\\Users\\USER\\AppData\\Local\\Temp\\ipykernel_9820\\2527977781.py:2: SettingWithCopyWarning: \n",
      "A value is trying to be set on a copy of a slice from a DataFrame.\n",
      "Try using .loc[row_indexer,col_indexer] = value instead\n",
      "\n",
      "See the caveats in the documentation: https://pandas.pydata.org/pandas-docs/stable/user_guide/indexing.html#returning-a-view-versus-a-copy\n",
      "  user_status['calls_x_month'] = user_status['user_id'].apply(calls_x_month)\n",
      "C:\\Users\\USER\\AppData\\Local\\Temp\\ipykernel_9820\\2527977781.py:5: SettingWithCopyWarning: \n",
      "A value is trying to be set on a copy of a slice from a DataFrame.\n",
      "Try using .loc[row_indexer,col_indexer] = value instead\n",
      "\n",
      "See the caveats in the documentation: https://pandas.pydata.org/pandas-docs/stable/user_guide/indexing.html#returning-a-view-versus-a-copy\n",
      "  user_status['calls_x_month'] = user_status['calls_x_month'].fillna(0)\n"
     ]
    }
   ],
   "source": [
    "#vamos aplicar la funcion creada a el nuevo dataframe que creamos anteriormente\n",
    "user_status['calls_x_month'] = user_status['user_id'].apply(calls_x_month)\n",
    "\n",
    "#rellenaremos las celdas vacias con cero\n",
    "user_status['calls_x_month'] = user_status['calls_x_month'].fillna(0)\n",
    "\n",
    "user_status.info(verbose=True) #general info about the user_stats table"
   ]
  },
  {
   "attachments": {},
   "cell_type": "markdown",
   "metadata": {},
   "source": [
    "El número de minutos utilizados al mes\n",
    "---"
   ]
  },
  {
   "attachments": {},
   "cell_type": "markdown",
   "metadata": {},
   "source": [
    "Crearemos una funcion llamada min_x_month su argumento sera userd_id. A continuación, aplicamos esta función a la columna 'user_id' de nuestra tabla user_stats y guardamos los resultados en nuestra nueva columna 'mins_x_month'. Luego, para el resto de los valores vacíos (si los hay), los rellenamos con cero."
   ]
  },
  {
   "cell_type": "code",
   "execution_count": 31,
   "metadata": {},
   "outputs": [],
   "source": [
    "def mins_X_month(user_id):\n",
    "    user_mins_slice = calls.query('user_id == @user_id')\n",
    "    minutes = user_mins_slice['duration'].sum()\n",
    "    months = len(user_mins_slice['month'].unique())\n",
    "    if months > 0:\n",
    "        y = minutes/months\n",
    "        return y"
   ]
  },
  {
   "cell_type": "code",
   "execution_count": 32,
   "metadata": {},
   "outputs": [
    {
     "name": "stderr",
     "output_type": "stream",
     "text": [
      "C:\\Users\\USER\\AppData\\Local\\Temp\\ipykernel_9820\\3490013601.py:1: SettingWithCopyWarning: \n",
      "A value is trying to be set on a copy of a slice from a DataFrame.\n",
      "Try using .loc[row_indexer,col_indexer] = value instead\n",
      "\n",
      "See the caveats in the documentation: https://pandas.pydata.org/pandas-docs/stable/user_guide/indexing.html#returning-a-view-versus-a-copy\n",
      "  user_status['mins_x_month'] = user_status['user_id'].apply(mins_X_month)\n",
      "C:\\Users\\USER\\AppData\\Local\\Temp\\ipykernel_9820\\3490013601.py:5: SettingWithCopyWarning: \n",
      "A value is trying to be set on a copy of a slice from a DataFrame.\n",
      "Try using .loc[row_indexer,col_indexer] = value instead\n",
      "\n",
      "See the caveats in the documentation: https://pandas.pydata.org/pandas-docs/stable/user_guide/indexing.html#returning-a-view-versus-a-copy\n",
      "  user_status['mins_x_month'] = user_status['mins_x_month'].fillna(0)\n"
     ]
    },
    {
     "data": {
      "text/html": [
       "<div>\n",
       "<style scoped>\n",
       "    .dataframe tbody tr th:only-of-type {\n",
       "        vertical-align: middle;\n",
       "    }\n",
       "\n",
       "    .dataframe tbody tr th {\n",
       "        vertical-align: top;\n",
       "    }\n",
       "\n",
       "    .dataframe thead th {\n",
       "        text-align: right;\n",
       "    }\n",
       "</style>\n",
       "<table border=\"1\" class=\"dataframe\">\n",
       "  <thead>\n",
       "    <tr style=\"text-align: right;\">\n",
       "      <th></th>\n",
       "      <th>user_id</th>\n",
       "      <th>first_name</th>\n",
       "      <th>last_name</th>\n",
       "      <th>city</th>\n",
       "      <th>plan</th>\n",
       "      <th>calls_x_month</th>\n",
       "      <th>mins_x_month</th>\n",
       "    </tr>\n",
       "  </thead>\n",
       "  <tbody>\n",
       "    <tr>\n",
       "      <th>0</th>\n",
       "      <td>1000</td>\n",
       "      <td>Anamaria</td>\n",
       "      <td>Bauer</td>\n",
       "      <td>Atlanta-Sandy Springs-Roswell, GA MSA</td>\n",
       "      <td>ultimate</td>\n",
       "      <td>16.000000</td>\n",
       "      <td>124.000000</td>\n",
       "    </tr>\n",
       "    <tr>\n",
       "      <th>1</th>\n",
       "      <td>1001</td>\n",
       "      <td>Mickey</td>\n",
       "      <td>Wilkerson</td>\n",
       "      <td>Seattle-Tacoma-Bellevue, WA MSA</td>\n",
       "      <td>surf</td>\n",
       "      <td>52.200000</td>\n",
       "      <td>345.600000</td>\n",
       "    </tr>\n",
       "    <tr>\n",
       "      <th>2</th>\n",
       "      <td>1002</td>\n",
       "      <td>Carlee</td>\n",
       "      <td>Hoffman</td>\n",
       "      <td>Las Vegas-Henderson-Paradise, NV MSA</td>\n",
       "      <td>surf</td>\n",
       "      <td>37.666667</td>\n",
       "      <td>276.333333</td>\n",
       "    </tr>\n",
       "    <tr>\n",
       "      <th>3</th>\n",
       "      <td>1003</td>\n",
       "      <td>Reynaldo</td>\n",
       "      <td>Jenkins</td>\n",
       "      <td>Tulsa, OK MSA</td>\n",
       "      <td>surf</td>\n",
       "      <td>149.000000</td>\n",
       "      <td>1104.000000</td>\n",
       "    </tr>\n",
       "    <tr>\n",
       "      <th>4</th>\n",
       "      <td>1004</td>\n",
       "      <td>Leonila</td>\n",
       "      <td>Thompson</td>\n",
       "      <td>Seattle-Tacoma-Bellevue, WA MSA</td>\n",
       "      <td>surf</td>\n",
       "      <td>46.250000</td>\n",
       "      <td>346.500000</td>\n",
       "    </tr>\n",
       "  </tbody>\n",
       "</table>\n",
       "</div>"
      ],
      "text/plain": [
       "   user_id first_name  last_name                                   city  \\\n",
       "0     1000   Anamaria      Bauer  Atlanta-Sandy Springs-Roswell, GA MSA   \n",
       "1     1001     Mickey  Wilkerson        Seattle-Tacoma-Bellevue, WA MSA   \n",
       "2     1002     Carlee    Hoffman   Las Vegas-Henderson-Paradise, NV MSA   \n",
       "3     1003   Reynaldo    Jenkins                          Tulsa, OK MSA   \n",
       "4     1004    Leonila   Thompson        Seattle-Tacoma-Bellevue, WA MSA   \n",
       "\n",
       "       plan  calls_x_month  mins_x_month  \n",
       "0  ultimate      16.000000    124.000000  \n",
       "1      surf      52.200000    345.600000  \n",
       "2      surf      37.666667    276.333333  \n",
       "3      surf     149.000000   1104.000000  \n",
       "4      surf      46.250000    346.500000  "
      ]
     },
     "execution_count": 32,
     "metadata": {},
     "output_type": "execute_result"
    }
   ],
   "source": [
    "user_status['mins_x_month'] = user_status['user_id'].apply(mins_X_month)\n",
    "#applies the 'mins_per_month' function to the user_id column of our user_stats table and saves the\n",
    "#results to our new 'mins_per_month' table\n",
    "\n",
    "user_status['mins_x_month'] = user_status['mins_x_month'].fillna(0)\n",
    "#returns 0 for all rows where there are missing values\n",
    "\n",
    "user_status.head() #first 5 rows of our user_stats"
   ]
  },
  {
   "cell_type": "code",
   "execution_count": 33,
   "metadata": {},
   "outputs": [
    {
     "data": {
      "text/plain": [
       "0"
      ]
     },
     "execution_count": 33,
     "metadata": {},
     "output_type": "execute_result"
    }
   ],
   "source": [
    "user_status['mins_x_month'].isna().sum()"
   ]
  },
  {
   "attachments": {},
   "cell_type": "markdown",
   "metadata": {},
   "source": [
    "---"
   ]
  },
  {
   "attachments": {},
   "cell_type": "markdown",
   "metadata": {},
   "source": [
    "Número de mensajes de texto enviados por mes\n",
    "---"
   ]
  },
  {
   "attachments": {},
   "cell_type": "markdown",
   "metadata": {},
   "source": [
    "El proceso será similar a las funciones creadas con anterioridad, salvo que aquí crearemos un segmento en el dataframe \"mensajes\" y dividiremos el número de mensajes por el número de mes, y nuestra nueva columna será \"mensajes_por_mes\"."
   ]
  },
  {
   "cell_type": "code",
   "execution_count": 34,
   "metadata": {},
   "outputs": [
    {
     "data": {
      "text/html": [
       "<div>\n",
       "<style scoped>\n",
       "    .dataframe tbody tr th:only-of-type {\n",
       "        vertical-align: middle;\n",
       "    }\n",
       "\n",
       "    .dataframe tbody tr th {\n",
       "        vertical-align: top;\n",
       "    }\n",
       "\n",
       "    .dataframe thead th {\n",
       "        text-align: right;\n",
       "    }\n",
       "</style>\n",
       "<table border=\"1\" class=\"dataframe\">\n",
       "  <thead>\n",
       "    <tr style=\"text-align: right;\">\n",
       "      <th></th>\n",
       "      <th>user_id</th>\n",
       "      <th>first_name</th>\n",
       "      <th>last_name</th>\n",
       "      <th>city</th>\n",
       "      <th>plan</th>\n",
       "      <th>calls_x_month</th>\n",
       "      <th>mins_x_month</th>\n",
       "      <th>messages_x_month</th>\n",
       "    </tr>\n",
       "  </thead>\n",
       "  <tbody>\n",
       "    <tr>\n",
       "      <th>0</th>\n",
       "      <td>1000</td>\n",
       "      <td>Anamaria</td>\n",
       "      <td>Bauer</td>\n",
       "      <td>Atlanta-Sandy Springs-Roswell, GA MSA</td>\n",
       "      <td>ultimate</td>\n",
       "      <td>16.000000</td>\n",
       "      <td>124.000000</td>\n",
       "      <td>11.000000</td>\n",
       "    </tr>\n",
       "    <tr>\n",
       "      <th>1</th>\n",
       "      <td>1001</td>\n",
       "      <td>Mickey</td>\n",
       "      <td>Wilkerson</td>\n",
       "      <td>Seattle-Tacoma-Bellevue, WA MSA</td>\n",
       "      <td>surf</td>\n",
       "      <td>52.200000</td>\n",
       "      <td>345.600000</td>\n",
       "      <td>41.400000</td>\n",
       "    </tr>\n",
       "    <tr>\n",
       "      <th>2</th>\n",
       "      <td>1002</td>\n",
       "      <td>Carlee</td>\n",
       "      <td>Hoffman</td>\n",
       "      <td>Las Vegas-Henderson-Paradise, NV MSA</td>\n",
       "      <td>surf</td>\n",
       "      <td>37.666667</td>\n",
       "      <td>276.333333</td>\n",
       "      <td>29.333333</td>\n",
       "    </tr>\n",
       "    <tr>\n",
       "      <th>3</th>\n",
       "      <td>1003</td>\n",
       "      <td>Reynaldo</td>\n",
       "      <td>Jenkins</td>\n",
       "      <td>Tulsa, OK MSA</td>\n",
       "      <td>surf</td>\n",
       "      <td>149.000000</td>\n",
       "      <td>1104.000000</td>\n",
       "      <td>50.000000</td>\n",
       "    </tr>\n",
       "    <tr>\n",
       "      <th>4</th>\n",
       "      <td>1004</td>\n",
       "      <td>Leonila</td>\n",
       "      <td>Thompson</td>\n",
       "      <td>Seattle-Tacoma-Bellevue, WA MSA</td>\n",
       "      <td>surf</td>\n",
       "      <td>46.250000</td>\n",
       "      <td>346.500000</td>\n",
       "      <td>22.125000</td>\n",
       "    </tr>\n",
       "  </tbody>\n",
       "</table>\n",
       "</div>"
      ],
      "text/plain": [
       "   user_id first_name  last_name                                   city  \\\n",
       "0     1000   Anamaria      Bauer  Atlanta-Sandy Springs-Roswell, GA MSA   \n",
       "1     1001     Mickey  Wilkerson        Seattle-Tacoma-Bellevue, WA MSA   \n",
       "2     1002     Carlee    Hoffman   Las Vegas-Henderson-Paradise, NV MSA   \n",
       "3     1003   Reynaldo    Jenkins                          Tulsa, OK MSA   \n",
       "4     1004    Leonila   Thompson        Seattle-Tacoma-Bellevue, WA MSA   \n",
       "\n",
       "       plan  calls_x_month  mins_x_month  messages_x_month  \n",
       "0  ultimate      16.000000    124.000000         11.000000  \n",
       "1      surf      52.200000    345.600000         41.400000  \n",
       "2      surf      37.666667    276.333333         29.333333  \n",
       "3      surf     149.000000   1104.000000         50.000000  \n",
       "4      surf      46.250000    346.500000         22.125000  "
      ]
     },
     "execution_count": 34,
     "metadata": {},
     "output_type": "execute_result"
    }
   ],
   "source": [
    "def messages_x_month(user_id):\n",
    "    user_messages_slice = messages.query('user_id == @user_id')\n",
    "    number_messagges = len(user_messages_slice)\n",
    "    months = len(user_messages_slice['month'].unique())\n",
    "    \n",
    "    if months > 0:\n",
    "        x = number_messagges/months\n",
    "        return x\n",
    "        \n",
    "    \n",
    "    \n",
    "user_status['messages_x_month'] = user_status['user_id'].apply(messages_x_month)\n",
    "user_status['messages_x_month'] = user_status['messages_x_month'].fillna(0)\n",
    "\n",
    "user_status.head()"
   ]
  },
  {
   "cell_type": "code",
   "execution_count": 35,
   "metadata": {},
   "outputs": [
    {
     "data": {
      "text/plain": [
       "0"
      ]
     },
     "execution_count": 35,
     "metadata": {},
     "output_type": "execute_result"
    }
   ],
   "source": [
    "user_status['messages_x_month'].isna().sum()"
   ]
  },
  {
   "attachments": {},
   "cell_type": "markdown",
   "metadata": {},
   "source": [
    "### Volumen de datos por mes"
   ]
  },
  {
   "attachments": {},
   "cell_type": "markdown",
   "metadata": {},
   "source": [
    "El mismo ejercicio, salvo que crearemos un segmento en la tabla \"internet\" y dividiremos la suma de todos los \"gb_utilizados\" por el número de meses de sesión diferentes. Nuestra nueva columna en la tabla user_stats será 'gb_per_month'."
   ]
  },
  {
   "cell_type": "code",
   "execution_count": 36,
   "metadata": {},
   "outputs": [
    {
     "name": "stdout",
     "output_type": "stream",
     "text": [
      "<class 'pandas.core.frame.DataFrame'>\n",
      "RangeIndex: 500 entries, 0 to 499\n",
      "Data columns (total 9 columns):\n",
      " #   Column            Non-Null Count  Dtype   \n",
      "---  ------            --------------  -----   \n",
      " 0   user_id           500 non-null    int64   \n",
      " 1   first_name        500 non-null    object  \n",
      " 2   last_name         500 non-null    object  \n",
      " 3   city              500 non-null    object  \n",
      " 4   plan              500 non-null    category\n",
      " 5   calls_x_month     500 non-null    float64 \n",
      " 6   mins_x_month      500 non-null    float64 \n",
      " 7   messages_x_month  500 non-null    float64 \n",
      " 8   gb_x_month        500 non-null    float64 \n",
      "dtypes: category(1), float64(4), int64(1), object(3)\n",
      "memory usage: 32.0+ KB\n"
     ]
    }
   ],
   "source": [
    "def gb_x_month(user_id):\n",
    "    user_gb_slice = internet.query('user_id == @user_id')\n",
    "    gb_volume = user_gb_slice['gb_used'].sum()\n",
    "    months = len(user_gb_slice['month'].unique())\n",
    "    if months > 0:\n",
    "        vpm = gb_volume/months\n",
    "        return vpm\n",
    "    \n",
    "user_status['gb_x_month'] = user_status['user_id'].apply(gb_x_month)\n",
    "user_status['gb_x_month'] = user_status['gb_x_month'].fillna(0)\n",
    "user_status.info(verbose=True)"
   ]
  },
  {
   "cell_type": "code",
   "execution_count": 37,
   "metadata": {},
   "outputs": [
    {
     "data": {
      "text/plain": [
       "0"
      ]
     },
     "execution_count": 37,
     "metadata": {},
     "output_type": "execute_result"
    }
   ],
   "source": [
    "user_status['gb_x_month'].isna().sum()"
   ]
  },
  {
   "cell_type": "code",
   "execution_count": 38,
   "metadata": {},
   "outputs": [
    {
     "data": {
      "text/html": [
       "<div>\n",
       "<style scoped>\n",
       "    .dataframe tbody tr th:only-of-type {\n",
       "        vertical-align: middle;\n",
       "    }\n",
       "\n",
       "    .dataframe tbody tr th {\n",
       "        vertical-align: top;\n",
       "    }\n",
       "\n",
       "    .dataframe thead th {\n",
       "        text-align: right;\n",
       "    }\n",
       "</style>\n",
       "<table border=\"1\" class=\"dataframe\">\n",
       "  <thead>\n",
       "    <tr style=\"text-align: right;\">\n",
       "      <th></th>\n",
       "      <th>user_id</th>\n",
       "      <th>first_name</th>\n",
       "      <th>last_name</th>\n",
       "      <th>city</th>\n",
       "      <th>plan</th>\n",
       "      <th>calls_x_month</th>\n",
       "      <th>mins_x_month</th>\n",
       "      <th>messages_x_month</th>\n",
       "      <th>gb_x_month</th>\n",
       "    </tr>\n",
       "  </thead>\n",
       "  <tbody>\n",
       "    <tr>\n",
       "      <th>0</th>\n",
       "      <td>1000</td>\n",
       "      <td>Anamaria</td>\n",
       "      <td>Bauer</td>\n",
       "      <td>Atlanta-Sandy Springs-Roswell, GA MSA</td>\n",
       "      <td>ultimate</td>\n",
       "      <td>16.000000</td>\n",
       "      <td>124.000000</td>\n",
       "      <td>11.000000</td>\n",
       "      <td>4.000000</td>\n",
       "    </tr>\n",
       "    <tr>\n",
       "      <th>1</th>\n",
       "      <td>1001</td>\n",
       "      <td>Mickey</td>\n",
       "      <td>Wilkerson</td>\n",
       "      <td>Seattle-Tacoma-Bellevue, WA MSA</td>\n",
       "      <td>surf</td>\n",
       "      <td>52.200000</td>\n",
       "      <td>345.600000</td>\n",
       "      <td>41.400000</td>\n",
       "      <td>43.200000</td>\n",
       "    </tr>\n",
       "    <tr>\n",
       "      <th>2</th>\n",
       "      <td>1002</td>\n",
       "      <td>Carlee</td>\n",
       "      <td>Hoffman</td>\n",
       "      <td>Las Vegas-Henderson-Paradise, NV MSA</td>\n",
       "      <td>surf</td>\n",
       "      <td>37.666667</td>\n",
       "      <td>276.333333</td>\n",
       "      <td>29.333333</td>\n",
       "      <td>32.333333</td>\n",
       "    </tr>\n",
       "    <tr>\n",
       "      <th>3</th>\n",
       "      <td>1003</td>\n",
       "      <td>Reynaldo</td>\n",
       "      <td>Jenkins</td>\n",
       "      <td>Tulsa, OK MSA</td>\n",
       "      <td>surf</td>\n",
       "      <td>149.000000</td>\n",
       "      <td>1104.000000</td>\n",
       "      <td>50.000000</td>\n",
       "      <td>53.000000</td>\n",
       "    </tr>\n",
       "    <tr>\n",
       "      <th>4</th>\n",
       "      <td>1004</td>\n",
       "      <td>Leonila</td>\n",
       "      <td>Thompson</td>\n",
       "      <td>Seattle-Tacoma-Bellevue, WA MSA</td>\n",
       "      <td>surf</td>\n",
       "      <td>46.250000</td>\n",
       "      <td>346.500000</td>\n",
       "      <td>22.125000</td>\n",
       "      <td>49.875000</td>\n",
       "    </tr>\n",
       "  </tbody>\n",
       "</table>\n",
       "</div>"
      ],
      "text/plain": [
       "   user_id first_name  last_name                                   city  \\\n",
       "0     1000   Anamaria      Bauer  Atlanta-Sandy Springs-Roswell, GA MSA   \n",
       "1     1001     Mickey  Wilkerson        Seattle-Tacoma-Bellevue, WA MSA   \n",
       "2     1002     Carlee    Hoffman   Las Vegas-Henderson-Paradise, NV MSA   \n",
       "3     1003   Reynaldo    Jenkins                          Tulsa, OK MSA   \n",
       "4     1004    Leonila   Thompson        Seattle-Tacoma-Bellevue, WA MSA   \n",
       "\n",
       "       plan  calls_x_month  mins_x_month  messages_x_month  gb_x_month  \n",
       "0  ultimate      16.000000    124.000000         11.000000    4.000000  \n",
       "1      surf      52.200000    345.600000         41.400000   43.200000  \n",
       "2      surf      37.666667    276.333333         29.333333   32.333333  \n",
       "3      surf     149.000000   1104.000000         50.000000   53.000000  \n",
       "4      surf      46.250000    346.500000         22.125000   49.875000  "
      ]
     },
     "execution_count": 38,
     "metadata": {},
     "output_type": "execute_result"
    }
   ],
   "source": [
    "user_status.head()"
   ]
  },
  {
   "attachments": {},
   "cell_type": "markdown",
   "metadata": {},
   "source": [
    "---"
   ]
  },
  {
   "attachments": {},
   "cell_type": "markdown",
   "metadata": {},
   "source": [
    "Unir en un dataframe todos nuestros cálculos y los datos que necesitamos para el análisis\n",
    "---"
   ]
  },
  {
   "cell_type": "code",
   "execution_count": 39,
   "metadata": {},
   "outputs": [
    {
     "data": {
      "text/html": [
       "<div>\n",
       "<style scoped>\n",
       "    .dataframe tbody tr th:only-of-type {\n",
       "        vertical-align: middle;\n",
       "    }\n",
       "\n",
       "    .dataframe tbody tr th {\n",
       "        vertical-align: top;\n",
       "    }\n",
       "\n",
       "    .dataframe thead th {\n",
       "        text-align: right;\n",
       "    }\n",
       "</style>\n",
       "<table border=\"1\" class=\"dataframe\">\n",
       "  <thead>\n",
       "    <tr style=\"text-align: right;\">\n",
       "      <th></th>\n",
       "      <th>user_id</th>\n",
       "      <th>calls_x_month</th>\n",
       "      <th>mins_x_month</th>\n",
       "      <th>messages_x_month</th>\n",
       "      <th>gb_x_month</th>\n",
       "    </tr>\n",
       "  </thead>\n",
       "  <tbody>\n",
       "    <tr>\n",
       "      <th>0</th>\n",
       "      <td>1000</td>\n",
       "      <td>16.000000</td>\n",
       "      <td>124.000000</td>\n",
       "      <td>11.000000</td>\n",
       "      <td>4.000000</td>\n",
       "    </tr>\n",
       "    <tr>\n",
       "      <th>1</th>\n",
       "      <td>1001</td>\n",
       "      <td>52.200000</td>\n",
       "      <td>345.600000</td>\n",
       "      <td>41.400000</td>\n",
       "      <td>43.200000</td>\n",
       "    </tr>\n",
       "    <tr>\n",
       "      <th>2</th>\n",
       "      <td>1002</td>\n",
       "      <td>37.666667</td>\n",
       "      <td>276.333333</td>\n",
       "      <td>29.333333</td>\n",
       "      <td>32.333333</td>\n",
       "    </tr>\n",
       "    <tr>\n",
       "      <th>3</th>\n",
       "      <td>1003</td>\n",
       "      <td>149.000000</td>\n",
       "      <td>1104.000000</td>\n",
       "      <td>50.000000</td>\n",
       "      <td>53.000000</td>\n",
       "    </tr>\n",
       "    <tr>\n",
       "      <th>4</th>\n",
       "      <td>1004</td>\n",
       "      <td>46.250000</td>\n",
       "      <td>346.500000</td>\n",
       "      <td>22.125000</td>\n",
       "      <td>49.875000</td>\n",
       "    </tr>\n",
       "    <tr>\n",
       "      <th>...</th>\n",
       "      <td>...</td>\n",
       "      <td>...</td>\n",
       "      <td>...</td>\n",
       "      <td>...</td>\n",
       "      <td>...</td>\n",
       "    </tr>\n",
       "    <tr>\n",
       "      <th>495</th>\n",
       "      <td>1495</td>\n",
       "      <td>63.250000</td>\n",
       "      <td>441.250000</td>\n",
       "      <td>0.000000</td>\n",
       "      <td>62.000000</td>\n",
       "    </tr>\n",
       "    <tr>\n",
       "      <th>496</th>\n",
       "      <td>1496</td>\n",
       "      <td>39.000000</td>\n",
       "      <td>291.000000</td>\n",
       "      <td>13.000000</td>\n",
       "      <td>34.800000</td>\n",
       "    </tr>\n",
       "    <tr>\n",
       "      <th>497</th>\n",
       "      <td>1497</td>\n",
       "      <td>54.000000</td>\n",
       "      <td>300.000000</td>\n",
       "      <td>50.000000</td>\n",
       "      <td>28.000000</td>\n",
       "    </tr>\n",
       "    <tr>\n",
       "      <th>498</th>\n",
       "      <td>1498</td>\n",
       "      <td>41.000000</td>\n",
       "      <td>291.909091</td>\n",
       "      <td>0.000000</td>\n",
       "      <td>51.272727</td>\n",
       "    </tr>\n",
       "    <tr>\n",
       "      <th>499</th>\n",
       "      <td>1499</td>\n",
       "      <td>51.000000</td>\n",
       "      <td>383.750000</td>\n",
       "      <td>0.000000</td>\n",
       "      <td>47.500000</td>\n",
       "    </tr>\n",
       "  </tbody>\n",
       "</table>\n",
       "<p>500 rows × 5 columns</p>\n",
       "</div>"
      ],
      "text/plain": [
       "     user_id  calls_x_month  mins_x_month  messages_x_month  gb_x_month\n",
       "0       1000      16.000000    124.000000         11.000000    4.000000\n",
       "1       1001      52.200000    345.600000         41.400000   43.200000\n",
       "2       1002      37.666667    276.333333         29.333333   32.333333\n",
       "3       1003     149.000000   1104.000000         50.000000   53.000000\n",
       "4       1004      46.250000    346.500000         22.125000   49.875000\n",
       "..       ...            ...           ...               ...         ...\n",
       "495     1495      63.250000    441.250000          0.000000   62.000000\n",
       "496     1496      39.000000    291.000000         13.000000   34.800000\n",
       "497     1497      54.000000    300.000000         50.000000   28.000000\n",
       "498     1498      41.000000    291.909091          0.000000   51.272727\n",
       "499     1499      51.000000    383.750000          0.000000   47.500000\n",
       "\n",
       "[500 rows x 5 columns]"
      ]
     },
     "execution_count": 39,
     "metadata": {},
     "output_type": "execute_result"
    }
   ],
   "source": [
    "user_status2 = user_status[['user_id', 'calls_x_month', 'mins_x_month', 'messages_x_month', 'gb_x_month']]\n",
    "user_status2"
   ]
  },
  {
   "cell_type": "code",
   "execution_count": 40,
   "metadata": {},
   "outputs": [
    {
     "data": {
      "text/html": [
       "<div>\n",
       "<style scoped>\n",
       "    .dataframe tbody tr th:only-of-type {\n",
       "        vertical-align: middle;\n",
       "    }\n",
       "\n",
       "    .dataframe tbody tr th {\n",
       "        vertical-align: top;\n",
       "    }\n",
       "\n",
       "    .dataframe thead th {\n",
       "        text-align: right;\n",
       "    }\n",
       "</style>\n",
       "<table border=\"1\" class=\"dataframe\">\n",
       "  <thead>\n",
       "    <tr style=\"text-align: right;\">\n",
       "      <th></th>\n",
       "      <th></th>\n",
       "      <th>duration</th>\n",
       "    </tr>\n",
       "    <tr>\n",
       "      <th>user_id</th>\n",
       "      <th>month</th>\n",
       "      <th></th>\n",
       "    </tr>\n",
       "  </thead>\n",
       "  <tbody>\n",
       "    <tr>\n",
       "      <th>1000</th>\n",
       "      <th>December</th>\n",
       "      <td>124</td>\n",
       "    </tr>\n",
       "    <tr>\n",
       "      <th rowspan=\"4\" valign=\"top\">1001</th>\n",
       "      <th>August</th>\n",
       "      <td>182</td>\n",
       "    </tr>\n",
       "    <tr>\n",
       "      <th>December</th>\n",
       "      <td>412</td>\n",
       "    </tr>\n",
       "    <tr>\n",
       "      <th>November</th>\n",
       "      <td>426</td>\n",
       "    </tr>\n",
       "    <tr>\n",
       "      <th>October</th>\n",
       "      <td>393</td>\n",
       "    </tr>\n",
       "    <tr>\n",
       "      <th>...</th>\n",
       "      <th>...</th>\n",
       "      <td>...</td>\n",
       "    </tr>\n",
       "    <tr>\n",
       "      <th>1498</th>\n",
       "      <th>September</th>\n",
       "      <td>363</td>\n",
       "    </tr>\n",
       "    <tr>\n",
       "      <th rowspan=\"4\" valign=\"top\">1499</th>\n",
       "      <th>December</th>\n",
       "      <td>496</td>\n",
       "    </tr>\n",
       "    <tr>\n",
       "      <th>November</th>\n",
       "      <td>308</td>\n",
       "    </tr>\n",
       "    <tr>\n",
       "      <th>October</th>\n",
       "      <td>385</td>\n",
       "    </tr>\n",
       "    <tr>\n",
       "      <th>September</th>\n",
       "      <td>346</td>\n",
       "    </tr>\n",
       "  </tbody>\n",
       "</table>\n",
       "<p>2258 rows × 1 columns</p>\n",
       "</div>"
      ],
      "text/plain": [
       "                   duration\n",
       "user_id month              \n",
       "1000    December        124\n",
       "1001    August          182\n",
       "        December        412\n",
       "        November        426\n",
       "        October         393\n",
       "...                     ...\n",
       "1498    September       363\n",
       "1499    December        496\n",
       "        November        308\n",
       "        October         385\n",
       "        September       346\n",
       "\n",
       "[2258 rows x 1 columns]"
      ]
     },
     "execution_count": 40,
     "metadata": {},
     "output_type": "execute_result"
    }
   ],
   "source": [
    "calls_groupby = calls.groupby([\"user_id\", \"month\"])[[\"duration\"]].sum()\n",
    "calls_groupby"
   ]
  },
  {
   "cell_type": "code",
   "execution_count": 41,
   "metadata": {},
   "outputs": [
    {
     "data": {
      "text/html": [
       "<div>\n",
       "<style scoped>\n",
       "    .dataframe tbody tr th:only-of-type {\n",
       "        vertical-align: middle;\n",
       "    }\n",
       "\n",
       "    .dataframe tbody tr th {\n",
       "        vertical-align: top;\n",
       "    }\n",
       "\n",
       "    .dataframe thead th {\n",
       "        text-align: right;\n",
       "    }\n",
       "</style>\n",
       "<table border=\"1\" class=\"dataframe\">\n",
       "  <thead>\n",
       "    <tr style=\"text-align: right;\">\n",
       "      <th></th>\n",
       "      <th></th>\n",
       "      <th>call_count</th>\n",
       "    </tr>\n",
       "    <tr>\n",
       "      <th>user_id</th>\n",
       "      <th>month</th>\n",
       "      <th></th>\n",
       "    </tr>\n",
       "  </thead>\n",
       "  <tbody>\n",
       "    <tr>\n",
       "      <th>1000</th>\n",
       "      <th>December</th>\n",
       "      <td>16</td>\n",
       "    </tr>\n",
       "    <tr>\n",
       "      <th rowspan=\"4\" valign=\"top\">1001</th>\n",
       "      <th>August</th>\n",
       "      <td>27</td>\n",
       "    </tr>\n",
       "    <tr>\n",
       "      <th>December</th>\n",
       "      <td>56</td>\n",
       "    </tr>\n",
       "    <tr>\n",
       "      <th>November</th>\n",
       "      <td>64</td>\n",
       "    </tr>\n",
       "    <tr>\n",
       "      <th>October</th>\n",
       "      <td>65</td>\n",
       "    </tr>\n",
       "    <tr>\n",
       "      <th>...</th>\n",
       "      <th>...</th>\n",
       "      <td>...</td>\n",
       "    </tr>\n",
       "    <tr>\n",
       "      <th>1498</th>\n",
       "      <th>September</th>\n",
       "      <td>45</td>\n",
       "    </tr>\n",
       "    <tr>\n",
       "      <th rowspan=\"4\" valign=\"top\">1499</th>\n",
       "      <th>December</th>\n",
       "      <td>65</td>\n",
       "    </tr>\n",
       "    <tr>\n",
       "      <th>November</th>\n",
       "      <td>45</td>\n",
       "    </tr>\n",
       "    <tr>\n",
       "      <th>October</th>\n",
       "      <td>53</td>\n",
       "    </tr>\n",
       "    <tr>\n",
       "      <th>September</th>\n",
       "      <td>41</td>\n",
       "    </tr>\n",
       "  </tbody>\n",
       "</table>\n",
       "<p>2258 rows × 1 columns</p>\n",
       "</div>"
      ],
      "text/plain": [
       "                   call_count\n",
       "user_id month                \n",
       "1000    December           16\n",
       "1001    August             27\n",
       "        December           56\n",
       "        November           64\n",
       "        October            65\n",
       "...                       ...\n",
       "1498    September          45\n",
       "1499    December           65\n",
       "        November           45\n",
       "        October            53\n",
       "        September          41\n",
       "\n",
       "[2258 rows x 1 columns]"
      ]
     },
     "execution_count": 41,
     "metadata": {},
     "output_type": "execute_result"
    }
   ],
   "source": [
    "calls_count = calls.groupby([\"user_id\", \"month\"])[[\"id\"]].count()\n",
    "calls_count.rename(columns= {\"id\":\"call_count\"}, inplace=True)\n",
    "calls_count"
   ]
  },
  {
   "cell_type": "code",
   "execution_count": 42,
   "metadata": {},
   "outputs": [
    {
     "data": {
      "text/html": [
       "<div>\n",
       "<style scoped>\n",
       "    .dataframe tbody tr th:only-of-type {\n",
       "        vertical-align: middle;\n",
       "    }\n",
       "\n",
       "    .dataframe tbody tr th {\n",
       "        vertical-align: top;\n",
       "    }\n",
       "\n",
       "    .dataframe thead th {\n",
       "        text-align: right;\n",
       "    }\n",
       "</style>\n",
       "<table border=\"1\" class=\"dataframe\">\n",
       "  <thead>\n",
       "    <tr style=\"text-align: right;\">\n",
       "      <th></th>\n",
       "      <th></th>\n",
       "      <th>gb_used</th>\n",
       "    </tr>\n",
       "    <tr>\n",
       "      <th>user_id</th>\n",
       "      <th>month</th>\n",
       "      <th></th>\n",
       "    </tr>\n",
       "  </thead>\n",
       "  <tbody>\n",
       "    <tr>\n",
       "      <th>1000</th>\n",
       "      <th>December</th>\n",
       "      <td>4</td>\n",
       "    </tr>\n",
       "    <tr>\n",
       "      <th rowspan=\"4\" valign=\"top\">1001</th>\n",
       "      <th>August</th>\n",
       "      <td>21</td>\n",
       "    </tr>\n",
       "    <tr>\n",
       "      <th>December</th>\n",
       "      <td>55</td>\n",
       "    </tr>\n",
       "    <tr>\n",
       "      <th>November</th>\n",
       "      <td>49</td>\n",
       "    </tr>\n",
       "    <tr>\n",
       "      <th>October</th>\n",
       "      <td>50</td>\n",
       "    </tr>\n",
       "    <tr>\n",
       "      <th>...</th>\n",
       "      <th>...</th>\n",
       "      <td>...</td>\n",
       "    </tr>\n",
       "    <tr>\n",
       "      <th>1498</th>\n",
       "      <th>September</th>\n",
       "      <td>52</td>\n",
       "    </tr>\n",
       "    <tr>\n",
       "      <th rowspan=\"4\" valign=\"top\">1499</th>\n",
       "      <th>December</th>\n",
       "      <td>58</td>\n",
       "    </tr>\n",
       "    <tr>\n",
       "      <th>November</th>\n",
       "      <td>43</td>\n",
       "    </tr>\n",
       "    <tr>\n",
       "      <th>October</th>\n",
       "      <td>52</td>\n",
       "    </tr>\n",
       "    <tr>\n",
       "      <th>September</th>\n",
       "      <td>37</td>\n",
       "    </tr>\n",
       "  </tbody>\n",
       "</table>\n",
       "<p>2277 rows × 1 columns</p>\n",
       "</div>"
      ],
      "text/plain": [
       "                   gb_used\n",
       "user_id month             \n",
       "1000    December         4\n",
       "1001    August          21\n",
       "        December        55\n",
       "        November        49\n",
       "        October         50\n",
       "...                    ...\n",
       "1498    September       52\n",
       "1499    December        58\n",
       "        November        43\n",
       "        October         52\n",
       "        September       37\n",
       "\n",
       "[2277 rows x 1 columns]"
      ]
     },
     "execution_count": 42,
     "metadata": {},
     "output_type": "execute_result"
    }
   ],
   "source": [
    "internet_groupby = internet.groupby([\"user_id\", \"month\"])[[\"gb_used\"]].sum()\n",
    "internet_groupby"
   ]
  },
  {
   "cell_type": "code",
   "execution_count": 43,
   "metadata": {},
   "outputs": [
    {
     "data": {
      "text/html": [
       "<div>\n",
       "<style scoped>\n",
       "    .dataframe tbody tr th:only-of-type {\n",
       "        vertical-align: middle;\n",
       "    }\n",
       "\n",
       "    .dataframe tbody tr th {\n",
       "        vertical-align: top;\n",
       "    }\n",
       "\n",
       "    .dataframe thead th {\n",
       "        text-align: right;\n",
       "    }\n",
       "</style>\n",
       "<table border=\"1\" class=\"dataframe\">\n",
       "  <thead>\n",
       "    <tr style=\"text-align: right;\">\n",
       "      <th></th>\n",
       "      <th></th>\n",
       "      <th>sms</th>\n",
       "    </tr>\n",
       "    <tr>\n",
       "      <th>user_id</th>\n",
       "      <th>month</th>\n",
       "      <th></th>\n",
       "    </tr>\n",
       "  </thead>\n",
       "  <tbody>\n",
       "    <tr>\n",
       "      <th>1000</th>\n",
       "      <th>December</th>\n",
       "      <td>11</td>\n",
       "    </tr>\n",
       "    <tr>\n",
       "      <th rowspan=\"4\" valign=\"top\">1001</th>\n",
       "      <th>August</th>\n",
       "      <td>30</td>\n",
       "    </tr>\n",
       "    <tr>\n",
       "      <th>December</th>\n",
       "      <td>44</td>\n",
       "    </tr>\n",
       "    <tr>\n",
       "      <th>November</th>\n",
       "      <td>36</td>\n",
       "    </tr>\n",
       "    <tr>\n",
       "      <th>October</th>\n",
       "      <td>53</td>\n",
       "    </tr>\n",
       "    <tr>\n",
       "      <th>...</th>\n",
       "      <th>...</th>\n",
       "      <td>...</td>\n",
       "    </tr>\n",
       "    <tr>\n",
       "      <th rowspan=\"4\" valign=\"top\">1496</th>\n",
       "      <th>December</th>\n",
       "      <td>11</td>\n",
       "    </tr>\n",
       "    <tr>\n",
       "      <th>November</th>\n",
       "      <td>13</td>\n",
       "    </tr>\n",
       "    <tr>\n",
       "      <th>October</th>\n",
       "      <td>18</td>\n",
       "    </tr>\n",
       "    <tr>\n",
       "      <th>September</th>\n",
       "      <td>21</td>\n",
       "    </tr>\n",
       "    <tr>\n",
       "      <th>1497</th>\n",
       "      <th>December</th>\n",
       "      <td>50</td>\n",
       "    </tr>\n",
       "  </tbody>\n",
       "</table>\n",
       "<p>1806 rows × 1 columns</p>\n",
       "</div>"
      ],
      "text/plain": [
       "                   sms\n",
       "user_id month         \n",
       "1000    December    11\n",
       "1001    August      30\n",
       "        December    44\n",
       "        November    36\n",
       "        October     53\n",
       "...                ...\n",
       "1496    December    11\n",
       "        November    13\n",
       "        October     18\n",
       "        September   21\n",
       "1497    December    50\n",
       "\n",
       "[1806 rows x 1 columns]"
      ]
     },
     "execution_count": 43,
     "metadata": {},
     "output_type": "execute_result"
    }
   ],
   "source": [
    "messages_groupby = messages.groupby([\"user_id\", \"month\"])[[\"id\"]].count()\n",
    "messages_groupby.rename(columns={\"id\":\"sms\"}, inplace =True)\n",
    "messages_groupby"
   ]
  },
  {
   "cell_type": "code",
   "execution_count": 44,
   "metadata": {},
   "outputs": [
    {
     "data": {
      "text/html": [
       "<div>\n",
       "<style scoped>\n",
       "    .dataframe tbody tr th:only-of-type {\n",
       "        vertical-align: middle;\n",
       "    }\n",
       "\n",
       "    .dataframe tbody tr th {\n",
       "        vertical-align: top;\n",
       "    }\n",
       "\n",
       "    .dataframe thead th {\n",
       "        text-align: right;\n",
       "    }\n",
       "</style>\n",
       "<table border=\"1\" class=\"dataframe\">\n",
       "  <thead>\n",
       "    <tr style=\"text-align: right;\">\n",
       "      <th></th>\n",
       "      <th></th>\n",
       "      <th>gb_used</th>\n",
       "      <th>sms</th>\n",
       "      <th>duration</th>\n",
       "      <th>call_count</th>\n",
       "    </tr>\n",
       "    <tr>\n",
       "      <th>user_id</th>\n",
       "      <th>month</th>\n",
       "      <th></th>\n",
       "      <th></th>\n",
       "      <th></th>\n",
       "      <th></th>\n",
       "    </tr>\n",
       "  </thead>\n",
       "  <tbody>\n",
       "    <tr>\n",
       "      <th>1000</th>\n",
       "      <th>December</th>\n",
       "      <td>4.0</td>\n",
       "      <td>11.0</td>\n",
       "      <td>124.0</td>\n",
       "      <td>16.0</td>\n",
       "    </tr>\n",
       "    <tr>\n",
       "      <th rowspan=\"4\" valign=\"top\">1001</th>\n",
       "      <th>August</th>\n",
       "      <td>21.0</td>\n",
       "      <td>30.0</td>\n",
       "      <td>182.0</td>\n",
       "      <td>27.0</td>\n",
       "    </tr>\n",
       "    <tr>\n",
       "      <th>December</th>\n",
       "      <td>55.0</td>\n",
       "      <td>44.0</td>\n",
       "      <td>412.0</td>\n",
       "      <td>56.0</td>\n",
       "    </tr>\n",
       "    <tr>\n",
       "      <th>November</th>\n",
       "      <td>49.0</td>\n",
       "      <td>36.0</td>\n",
       "      <td>426.0</td>\n",
       "      <td>64.0</td>\n",
       "    </tr>\n",
       "    <tr>\n",
       "      <th>October</th>\n",
       "      <td>50.0</td>\n",
       "      <td>53.0</td>\n",
       "      <td>393.0</td>\n",
       "      <td>65.0</td>\n",
       "    </tr>\n",
       "    <tr>\n",
       "      <th>...</th>\n",
       "      <th>...</th>\n",
       "      <td>...</td>\n",
       "      <td>...</td>\n",
       "      <td>...</td>\n",
       "      <td>...</td>\n",
       "    </tr>\n",
       "    <tr>\n",
       "      <th>1470</th>\n",
       "      <th>September</th>\n",
       "      <td>NaN</td>\n",
       "      <td>130.0</td>\n",
       "      <td>471.0</td>\n",
       "      <td>70.0</td>\n",
       "    </tr>\n",
       "    <tr>\n",
       "      <th>1482</th>\n",
       "      <th>October</th>\n",
       "      <td>NaN</td>\n",
       "      <td>2.0</td>\n",
       "      <td>NaN</td>\n",
       "      <td>NaN</td>\n",
       "    </tr>\n",
       "    <tr>\n",
       "      <th>1484</th>\n",
       "      <th>November</th>\n",
       "      <td>NaN</td>\n",
       "      <td>1.0</td>\n",
       "      <td>38.0</td>\n",
       "      <td>2.0</td>\n",
       "    </tr>\n",
       "    <tr>\n",
       "      <th>1491</th>\n",
       "      <th>April</th>\n",
       "      <td>NaN</td>\n",
       "      <td>6.0</td>\n",
       "      <td>44.0</td>\n",
       "      <td>8.0</td>\n",
       "    </tr>\n",
       "    <tr>\n",
       "      <th>1044</th>\n",
       "      <th>August</th>\n",
       "      <td>NaN</td>\n",
       "      <td>NaN</td>\n",
       "      <td>13.0</td>\n",
       "      <td>1.0</td>\n",
       "    </tr>\n",
       "  </tbody>\n",
       "</table>\n",
       "<p>2293 rows × 4 columns</p>\n",
       "</div>"
      ],
      "text/plain": [
       "                   gb_used    sms  duration  call_count\n",
       "user_id month                                          \n",
       "1000    December       4.0   11.0     124.0        16.0\n",
       "1001    August        21.0   30.0     182.0        27.0\n",
       "        December      55.0   44.0     412.0        56.0\n",
       "        November      49.0   36.0     426.0        64.0\n",
       "        October       50.0   53.0     393.0        65.0\n",
       "...                    ...    ...       ...         ...\n",
       "1470    September      NaN  130.0     471.0        70.0\n",
       "1482    October        NaN    2.0       NaN         NaN\n",
       "1484    November       NaN    1.0      38.0         2.0\n",
       "1491    April          NaN    6.0      44.0         8.0\n",
       "1044    August         NaN    NaN      13.0         1.0\n",
       "\n",
       "[2293 rows x 4 columns]"
      ]
     },
     "execution_count": 44,
     "metadata": {},
     "output_type": "execute_result"
    }
   ],
   "source": [
    "new_df = internet_groupby.join(messages_groupby, on=[\"user_id\", \"month\"], how=\"outer\")\n",
    "new_df = new_df.join(calls_groupby, on=[\"user_id\", \"month\"], how=\"outer\")\n",
    "new_df = new_df.join(calls_count, on=[\"user_id\", \"month\"], how=\"outer\")\n",
    "new_df"
   ]
  },
  {
   "cell_type": "code",
   "execution_count": 45,
   "metadata": {},
   "outputs": [],
   "source": [
    "new_df = new_df.fillna(0)"
   ]
  },
  {
   "cell_type": "code",
   "execution_count": 46,
   "metadata": {},
   "outputs": [
    {
     "data": {
      "text/html": [
       "<div>\n",
       "<style scoped>\n",
       "    .dataframe tbody tr th:only-of-type {\n",
       "        vertical-align: middle;\n",
       "    }\n",
       "\n",
       "    .dataframe tbody tr th {\n",
       "        vertical-align: top;\n",
       "    }\n",
       "\n",
       "    .dataframe thead th {\n",
       "        text-align: right;\n",
       "    }\n",
       "</style>\n",
       "<table border=\"1\" class=\"dataframe\">\n",
       "  <thead>\n",
       "    <tr style=\"text-align: right;\">\n",
       "      <th></th>\n",
       "      <th>user_id</th>\n",
       "      <th>plan</th>\n",
       "      <th>city</th>\n",
       "    </tr>\n",
       "  </thead>\n",
       "  <tbody>\n",
       "    <tr>\n",
       "      <th>0</th>\n",
       "      <td>1000</td>\n",
       "      <td>ultimate</td>\n",
       "      <td>Atlanta-Sandy Springs-Roswell, GA MSA</td>\n",
       "    </tr>\n",
       "    <tr>\n",
       "      <th>1</th>\n",
       "      <td>1001</td>\n",
       "      <td>surf</td>\n",
       "      <td>Seattle-Tacoma-Bellevue, WA MSA</td>\n",
       "    </tr>\n",
       "    <tr>\n",
       "      <th>2</th>\n",
       "      <td>1002</td>\n",
       "      <td>surf</td>\n",
       "      <td>Las Vegas-Henderson-Paradise, NV MSA</td>\n",
       "    </tr>\n",
       "    <tr>\n",
       "      <th>3</th>\n",
       "      <td>1003</td>\n",
       "      <td>surf</td>\n",
       "      <td>Tulsa, OK MSA</td>\n",
       "    </tr>\n",
       "    <tr>\n",
       "      <th>4</th>\n",
       "      <td>1004</td>\n",
       "      <td>surf</td>\n",
       "      <td>Seattle-Tacoma-Bellevue, WA MSA</td>\n",
       "    </tr>\n",
       "    <tr>\n",
       "      <th>...</th>\n",
       "      <td>...</td>\n",
       "      <td>...</td>\n",
       "      <td>...</td>\n",
       "    </tr>\n",
       "    <tr>\n",
       "      <th>495</th>\n",
       "      <td>1495</td>\n",
       "      <td>surf</td>\n",
       "      <td>New York-Newark-Jersey City, NY-NJ-PA MSA</td>\n",
       "    </tr>\n",
       "    <tr>\n",
       "      <th>496</th>\n",
       "      <td>1496</td>\n",
       "      <td>surf</td>\n",
       "      <td>New Orleans-Metairie, LA MSA</td>\n",
       "    </tr>\n",
       "    <tr>\n",
       "      <th>497</th>\n",
       "      <td>1497</td>\n",
       "      <td>ultimate</td>\n",
       "      <td>Los Angeles-Long Beach-Anaheim, CA MSA</td>\n",
       "    </tr>\n",
       "    <tr>\n",
       "      <th>498</th>\n",
       "      <td>1498</td>\n",
       "      <td>surf</td>\n",
       "      <td>New York-Newark-Jersey City, NY-NJ-PA MSA</td>\n",
       "    </tr>\n",
       "    <tr>\n",
       "      <th>499</th>\n",
       "      <td>1499</td>\n",
       "      <td>surf</td>\n",
       "      <td>Orlando-Kissimmee-Sanford, FL MSA</td>\n",
       "    </tr>\n",
       "  </tbody>\n",
       "</table>\n",
       "<p>500 rows × 3 columns</p>\n",
       "</div>"
      ],
      "text/plain": [
       "     user_id      plan                                       city\n",
       "0       1000  ultimate      Atlanta-Sandy Springs-Roswell, GA MSA\n",
       "1       1001      surf            Seattle-Tacoma-Bellevue, WA MSA\n",
       "2       1002      surf       Las Vegas-Henderson-Paradise, NV MSA\n",
       "3       1003      surf                              Tulsa, OK MSA\n",
       "4       1004      surf            Seattle-Tacoma-Bellevue, WA MSA\n",
       "..       ...       ...                                        ...\n",
       "495     1495      surf  New York-Newark-Jersey City, NY-NJ-PA MSA\n",
       "496     1496      surf               New Orleans-Metairie, LA MSA\n",
       "497     1497  ultimate     Los Angeles-Long Beach-Anaheim, CA MSA\n",
       "498     1498      surf  New York-Newark-Jersey City, NY-NJ-PA MSA\n",
       "499     1499      surf          Orlando-Kissimmee-Sanford, FL MSA\n",
       "\n",
       "[500 rows x 3 columns]"
      ]
     },
     "execution_count": 46,
     "metadata": {},
     "output_type": "execute_result"
    }
   ],
   "source": [
    "users_2 = users[[\"user_id\", \"plan\", \"city\"]]\n",
    "users_2"
   ]
  },
  {
   "cell_type": "code",
   "execution_count": 47,
   "metadata": {},
   "outputs": [],
   "source": [
    "new_df = new_df.reset_index()"
   ]
  },
  {
   "cell_type": "code",
   "execution_count": 48,
   "metadata": {},
   "outputs": [
    {
     "data": {
      "text/html": [
       "<div>\n",
       "<style scoped>\n",
       "    .dataframe tbody tr th:only-of-type {\n",
       "        vertical-align: middle;\n",
       "    }\n",
       "\n",
       "    .dataframe tbody tr th {\n",
       "        vertical-align: top;\n",
       "    }\n",
       "\n",
       "    .dataframe thead th {\n",
       "        text-align: right;\n",
       "    }\n",
       "</style>\n",
       "<table border=\"1\" class=\"dataframe\">\n",
       "  <thead>\n",
       "    <tr style=\"text-align: right;\">\n",
       "      <th></th>\n",
       "      <th>user_id</th>\n",
       "      <th>month</th>\n",
       "      <th>gb_used</th>\n",
       "      <th>sms</th>\n",
       "      <th>duration</th>\n",
       "      <th>call_count</th>\n",
       "      <th>plan</th>\n",
       "      <th>city</th>\n",
       "      <th>calls_x_month</th>\n",
       "      <th>mins_x_month</th>\n",
       "      <th>messages_x_month</th>\n",
       "      <th>gb_x_month</th>\n",
       "    </tr>\n",
       "  </thead>\n",
       "  <tbody>\n",
       "    <tr>\n",
       "      <th>0</th>\n",
       "      <td>1000</td>\n",
       "      <td>December</td>\n",
       "      <td>4.0</td>\n",
       "      <td>11.0</td>\n",
       "      <td>124.0</td>\n",
       "      <td>16.0</td>\n",
       "      <td>ultimate</td>\n",
       "      <td>Atlanta-Sandy Springs-Roswell, GA MSA</td>\n",
       "      <td>16.0</td>\n",
       "      <td>124.000</td>\n",
       "      <td>11.0</td>\n",
       "      <td>4.0</td>\n",
       "    </tr>\n",
       "    <tr>\n",
       "      <th>1</th>\n",
       "      <td>1001</td>\n",
       "      <td>August</td>\n",
       "      <td>21.0</td>\n",
       "      <td>30.0</td>\n",
       "      <td>182.0</td>\n",
       "      <td>27.0</td>\n",
       "      <td>surf</td>\n",
       "      <td>Seattle-Tacoma-Bellevue, WA MSA</td>\n",
       "      <td>52.2</td>\n",
       "      <td>345.600</td>\n",
       "      <td>41.4</td>\n",
       "      <td>43.2</td>\n",
       "    </tr>\n",
       "    <tr>\n",
       "      <th>2</th>\n",
       "      <td>1001</td>\n",
       "      <td>December</td>\n",
       "      <td>55.0</td>\n",
       "      <td>44.0</td>\n",
       "      <td>412.0</td>\n",
       "      <td>56.0</td>\n",
       "      <td>surf</td>\n",
       "      <td>Seattle-Tacoma-Bellevue, WA MSA</td>\n",
       "      <td>52.2</td>\n",
       "      <td>345.600</td>\n",
       "      <td>41.4</td>\n",
       "      <td>43.2</td>\n",
       "    </tr>\n",
       "    <tr>\n",
       "      <th>3</th>\n",
       "      <td>1001</td>\n",
       "      <td>November</td>\n",
       "      <td>49.0</td>\n",
       "      <td>36.0</td>\n",
       "      <td>426.0</td>\n",
       "      <td>64.0</td>\n",
       "      <td>surf</td>\n",
       "      <td>Seattle-Tacoma-Bellevue, WA MSA</td>\n",
       "      <td>52.2</td>\n",
       "      <td>345.600</td>\n",
       "      <td>41.4</td>\n",
       "      <td>43.2</td>\n",
       "    </tr>\n",
       "    <tr>\n",
       "      <th>4</th>\n",
       "      <td>1001</td>\n",
       "      <td>October</td>\n",
       "      <td>50.0</td>\n",
       "      <td>53.0</td>\n",
       "      <td>393.0</td>\n",
       "      <td>65.0</td>\n",
       "      <td>surf</td>\n",
       "      <td>Seattle-Tacoma-Bellevue, WA MSA</td>\n",
       "      <td>52.2</td>\n",
       "      <td>345.600</td>\n",
       "      <td>41.4</td>\n",
       "      <td>43.2</td>\n",
       "    </tr>\n",
       "    <tr>\n",
       "      <th>...</th>\n",
       "      <td>...</td>\n",
       "      <td>...</td>\n",
       "      <td>...</td>\n",
       "      <td>...</td>\n",
       "      <td>...</td>\n",
       "      <td>...</td>\n",
       "      <td>...</td>\n",
       "      <td>...</td>\n",
       "      <td>...</td>\n",
       "      <td>...</td>\n",
       "      <td>...</td>\n",
       "      <td>...</td>\n",
       "    </tr>\n",
       "    <tr>\n",
       "      <th>2288</th>\n",
       "      <td>1470</td>\n",
       "      <td>June</td>\n",
       "      <td>0.0</td>\n",
       "      <td>133.0</td>\n",
       "      <td>565.0</td>\n",
       "      <td>72.0</td>\n",
       "      <td>surf</td>\n",
       "      <td>Washington-Arlington-Alexandria, DC-VA-MD-WV MSA</td>\n",
       "      <td>70.0</td>\n",
       "      <td>507.875</td>\n",
       "      <td>132.0</td>\n",
       "      <td>0.0</td>\n",
       "    </tr>\n",
       "    <tr>\n",
       "      <th>2289</th>\n",
       "      <td>1470</td>\n",
       "      <td>May</td>\n",
       "      <td>0.0</td>\n",
       "      <td>51.0</td>\n",
       "      <td>240.0</td>\n",
       "      <td>28.0</td>\n",
       "      <td>surf</td>\n",
       "      <td>Washington-Arlington-Alexandria, DC-VA-MD-WV MSA</td>\n",
       "      <td>70.0</td>\n",
       "      <td>507.875</td>\n",
       "      <td>132.0</td>\n",
       "      <td>0.0</td>\n",
       "    </tr>\n",
       "    <tr>\n",
       "      <th>2290</th>\n",
       "      <td>1470</td>\n",
       "      <td>November</td>\n",
       "      <td>0.0</td>\n",
       "      <td>156.0</td>\n",
       "      <td>632.0</td>\n",
       "      <td>81.0</td>\n",
       "      <td>surf</td>\n",
       "      <td>Washington-Arlington-Alexandria, DC-VA-MD-WV MSA</td>\n",
       "      <td>70.0</td>\n",
       "      <td>507.875</td>\n",
       "      <td>132.0</td>\n",
       "      <td>0.0</td>\n",
       "    </tr>\n",
       "    <tr>\n",
       "      <th>2291</th>\n",
       "      <td>1470</td>\n",
       "      <td>October</td>\n",
       "      <td>0.0</td>\n",
       "      <td>145.0</td>\n",
       "      <td>459.0</td>\n",
       "      <td>72.0</td>\n",
       "      <td>surf</td>\n",
       "      <td>Washington-Arlington-Alexandria, DC-VA-MD-WV MSA</td>\n",
       "      <td>70.0</td>\n",
       "      <td>507.875</td>\n",
       "      <td>132.0</td>\n",
       "      <td>0.0</td>\n",
       "    </tr>\n",
       "    <tr>\n",
       "      <th>2292</th>\n",
       "      <td>1470</td>\n",
       "      <td>September</td>\n",
       "      <td>0.0</td>\n",
       "      <td>130.0</td>\n",
       "      <td>471.0</td>\n",
       "      <td>70.0</td>\n",
       "      <td>surf</td>\n",
       "      <td>Washington-Arlington-Alexandria, DC-VA-MD-WV MSA</td>\n",
       "      <td>70.0</td>\n",
       "      <td>507.875</td>\n",
       "      <td>132.0</td>\n",
       "      <td>0.0</td>\n",
       "    </tr>\n",
       "  </tbody>\n",
       "</table>\n",
       "<p>2293 rows × 12 columns</p>\n",
       "</div>"
      ],
      "text/plain": [
       "      user_id      month  gb_used    sms  duration  call_count      plan  \\\n",
       "0        1000   December      4.0   11.0     124.0        16.0  ultimate   \n",
       "1        1001     August     21.0   30.0     182.0        27.0      surf   \n",
       "2        1001   December     55.0   44.0     412.0        56.0      surf   \n",
       "3        1001   November     49.0   36.0     426.0        64.0      surf   \n",
       "4        1001    October     50.0   53.0     393.0        65.0      surf   \n",
       "...       ...        ...      ...    ...       ...         ...       ...   \n",
       "2288     1470       June      0.0  133.0     565.0        72.0      surf   \n",
       "2289     1470        May      0.0   51.0     240.0        28.0      surf   \n",
       "2290     1470   November      0.0  156.0     632.0        81.0      surf   \n",
       "2291     1470    October      0.0  145.0     459.0        72.0      surf   \n",
       "2292     1470  September      0.0  130.0     471.0        70.0      surf   \n",
       "\n",
       "                                                  city  calls_x_month  \\\n",
       "0                Atlanta-Sandy Springs-Roswell, GA MSA           16.0   \n",
       "1                      Seattle-Tacoma-Bellevue, WA MSA           52.2   \n",
       "2                      Seattle-Tacoma-Bellevue, WA MSA           52.2   \n",
       "3                      Seattle-Tacoma-Bellevue, WA MSA           52.2   \n",
       "4                      Seattle-Tacoma-Bellevue, WA MSA           52.2   \n",
       "...                                                ...            ...   \n",
       "2288  Washington-Arlington-Alexandria, DC-VA-MD-WV MSA           70.0   \n",
       "2289  Washington-Arlington-Alexandria, DC-VA-MD-WV MSA           70.0   \n",
       "2290  Washington-Arlington-Alexandria, DC-VA-MD-WV MSA           70.0   \n",
       "2291  Washington-Arlington-Alexandria, DC-VA-MD-WV MSA           70.0   \n",
       "2292  Washington-Arlington-Alexandria, DC-VA-MD-WV MSA           70.0   \n",
       "\n",
       "      mins_x_month  messages_x_month  gb_x_month  \n",
       "0          124.000              11.0         4.0  \n",
       "1          345.600              41.4        43.2  \n",
       "2          345.600              41.4        43.2  \n",
       "3          345.600              41.4        43.2  \n",
       "4          345.600              41.4        43.2  \n",
       "...            ...               ...         ...  \n",
       "2288       507.875             132.0         0.0  \n",
       "2289       507.875             132.0         0.0  \n",
       "2290       507.875             132.0         0.0  \n",
       "2291       507.875             132.0         0.0  \n",
       "2292       507.875             132.0         0.0  \n",
       "\n",
       "[2293 rows x 12 columns]"
      ]
     },
     "execution_count": 48,
     "metadata": {},
     "output_type": "execute_result"
    }
   ],
   "source": [
    "new_df = new_df.merge(users_2, on=[\"user_id\"])\n",
    "new_df = new_df.merge(user_status2, on=[\"user_id\"])\n",
    "new_df"
   ]
  },
  {
   "cell_type": "code",
   "execution_count": 49,
   "metadata": {},
   "outputs": [],
   "source": [
    "new_df[\"basic_salary\"] = new_df[\"plan\"].replace({\"surf\" :20, \"ultimate\":70})\n",
    "new_df['basic_salary'] = new_df['basic_salary'].astype('int')"
   ]
  },
  {
   "attachments": {},
   "cell_type": "markdown",
   "metadata": {},
   "source": [
    "## Paso 2. Ingreso mensuales de cada usuario\n"
   ]
  },
  {
   "cell_type": "code",
   "execution_count": 50,
   "metadata": {},
   "outputs": [],
   "source": [
    "new_df[\"call_cost_overrun\"]=\"\"\n",
    "new_df[\"sms_cost_overrun\"]=\"\"\n",
    "new_df[\"data_cost_overrun\"]=\"\""
   ]
  },
  {
   "cell_type": "code",
   "execution_count": 51,
   "metadata": {},
   "outputs": [
    {
     "name": "stderr",
     "output_type": "stream",
     "text": [
      "C:\\Users\\USER\\AppData\\Local\\Temp\\ipykernel_9820\\2152083086.py:4: SettingWithCopyWarning: \n",
      "A value is trying to be set on a copy of a slice from a DataFrame\n",
      "\n",
      "See the caveats in the documentation: https://pandas.pydata.org/pandas-docs/stable/user_guide/indexing.html#returning-a-view-versus-a-copy\n",
      "  new_df[\"call_cost_overrun\"][i] = 0\n",
      "C:\\Users\\USER\\AppData\\Local\\Temp\\ipykernel_9820\\2152083086.py:10: SettingWithCopyWarning: \n",
      "A value is trying to be set on a copy of a slice from a DataFrame\n",
      "\n",
      "See the caveats in the documentation: https://pandas.pydata.org/pandas-docs/stable/user_guide/indexing.html#returning-a-view-versus-a-copy\n",
      "  new_df[\"call_cost_overrun\"][i] = 0\n",
      "C:\\Users\\USER\\AppData\\Local\\Temp\\ipykernel_9820\\2152083086.py:13: SettingWithCopyWarning: \n",
      "A value is trying to be set on a copy of a slice from a DataFrame\n",
      "\n",
      "See the caveats in the documentation: https://pandas.pydata.org/pandas-docs/stable/user_guide/indexing.html#returning-a-view-versus-a-copy\n",
      "  new_df[\"call_cost_overrun\"][i] = extra_call * 0.03\n"
     ]
    }
   ],
   "source": [
    "for i in new_df.index:\n",
    "    if new_df[\"plan\"][i] == \"ultimate\":\n",
    "        if new_df[\"duration\"][i] <= 3000:\n",
    "            new_df[\"call_cost_overrun\"][i] = 0\n",
    "        else:\n",
    "            extra_call = new_df[\"duration\"][i] - 3000\n",
    "            new_df[\"call_cost_overrun\"][i] = extra_call * 0.01\n",
    "    if new_df[\"plan\"][i] == \"surf\":\n",
    "        if new_df[\"duration\"][i] <= 500:\n",
    "            new_df[\"call_cost_overrun\"][i] = 0\n",
    "        else:\n",
    "            extra_call = new_df[\"duration\"][i] -500\n",
    "            new_df[\"call_cost_overrun\"][i] = extra_call * 0.03\n",
    "        "
   ]
  },
  {
   "cell_type": "code",
   "execution_count": 52,
   "metadata": {},
   "outputs": [
    {
     "name": "stderr",
     "output_type": "stream",
     "text": [
      "C:\\Users\\USER\\AppData\\Local\\Temp\\ipykernel_9820\\1859764163.py:4: SettingWithCopyWarning: \n",
      "A value is trying to be set on a copy of a slice from a DataFrame\n",
      "\n",
      "See the caveats in the documentation: https://pandas.pydata.org/pandas-docs/stable/user_guide/indexing.html#returning-a-view-versus-a-copy\n",
      "  new_df[\"sms_cost_overrun\"][i] = 0\n",
      "C:\\Users\\USER\\AppData\\Local\\Temp\\ipykernel_9820\\1859764163.py:10: SettingWithCopyWarning: \n",
      "A value is trying to be set on a copy of a slice from a DataFrame\n",
      "\n",
      "See the caveats in the documentation: https://pandas.pydata.org/pandas-docs/stable/user_guide/indexing.html#returning-a-view-versus-a-copy\n",
      "  new_df[\"sms_cost_overrun\"][i] = 0\n",
      "C:\\Users\\USER\\AppData\\Local\\Temp\\ipykernel_9820\\1859764163.py:13: SettingWithCopyWarning: \n",
      "A value is trying to be set on a copy of a slice from a DataFrame\n",
      "\n",
      "See the caveats in the documentation: https://pandas.pydata.org/pandas-docs/stable/user_guide/indexing.html#returning-a-view-versus-a-copy\n",
      "  new_df[\"sms_cost_overrun\"][i] = extra_sms * 0.03\n"
     ]
    }
   ],
   "source": [
    "for i in new_df.index:\n",
    "    if new_df[\"plan\"][i] == \"ultimate\":\n",
    "        if new_df[\"sms\"][i] <= 1000:\n",
    "            new_df[\"sms_cost_overrun\"][i] = 0\n",
    "        else:\n",
    "            extra_sms = new_df[\"gb_used\"][i] - 1000\n",
    "            new_df[\"data_cost_overrun\"][i] = extra_sms * 0.01\n",
    "    if new_df[\"plan\"][i] == \"surf\":\n",
    "        if new_df[\"sms\"][i] <= 50:\n",
    "            new_df[\"sms_cost_overrun\"][i] = 0\n",
    "        else:\n",
    "            extra_sms = new_df[\"sms\"][i] - 50\n",
    "            new_df[\"sms_cost_overrun\"][i] = extra_sms * 0.03\n",
    "        "
   ]
  },
  {
   "cell_type": "code",
   "execution_count": 53,
   "metadata": {},
   "outputs": [
    {
     "name": "stderr",
     "output_type": "stream",
     "text": [
      "C:\\Users\\USER\\AppData\\Local\\Temp\\ipykernel_9820\\3310296067.py:4: SettingWithCopyWarning: \n",
      "A value is trying to be set on a copy of a slice from a DataFrame\n",
      "\n",
      "See the caveats in the documentation: https://pandas.pydata.org/pandas-docs/stable/user_guide/indexing.html#returning-a-view-versus-a-copy\n",
      "  new_df[\"data_cost_overrun\"][i] = 0\n",
      "C:\\Users\\USER\\AppData\\Local\\Temp\\ipykernel_9820\\3310296067.py:13: SettingWithCopyWarning: \n",
      "A value is trying to be set on a copy of a slice from a DataFrame\n",
      "\n",
      "See the caveats in the documentation: https://pandas.pydata.org/pandas-docs/stable/user_guide/indexing.html#returning-a-view-versus-a-copy\n",
      "  new_df[\"data_cost_overrun\"][i] = extra_data * 10\n",
      "C:\\Users\\USER\\AppData\\Local\\Temp\\ipykernel_9820\\3310296067.py:10: SettingWithCopyWarning: \n",
      "A value is trying to be set on a copy of a slice from a DataFrame\n",
      "\n",
      "See the caveats in the documentation: https://pandas.pydata.org/pandas-docs/stable/user_guide/indexing.html#returning-a-view-versus-a-copy\n",
      "  new_df[\"data_cost_overrun\"][i] = 0\n",
      "C:\\Users\\USER\\AppData\\Local\\Temp\\ipykernel_9820\\3310296067.py:7: SettingWithCopyWarning: \n",
      "A value is trying to be set on a copy of a slice from a DataFrame\n",
      "\n",
      "See the caveats in the documentation: https://pandas.pydata.org/pandas-docs/stable/user_guide/indexing.html#returning-a-view-versus-a-copy\n",
      "  new_df[\"data_cost_overrun\"][i] = extra_data * 7\n"
     ]
    }
   ],
   "source": [
    "for i in new_df.index:\n",
    "    if new_df[\"plan\"][i] == \"ultimate\":\n",
    "        if new_df[\"gb_used\"][i] <= 13:\n",
    "            new_df[\"data_cost_overrun\"][i] = 0\n",
    "        else:\n",
    "            extra_data = new_df[\"gb_used\"][i] - 13\n",
    "            new_df[\"data_cost_overrun\"][i] = extra_data * 7\n",
    "    if new_df[\"plan\"][i] == \"surf\":\n",
    "        if new_df[\"gb_used\"][i] <= 15:\n",
    "            new_df[\"data_cost_overrun\"][i] = 0\n",
    "        else:\n",
    "            extra_data = new_df[\"gb_used\"][i] - 15\n",
    "            new_df[\"data_cost_overrun\"][i] = extra_data * 10\n",
    "        "
   ]
  },
  {
   "cell_type": "code",
   "execution_count": 54,
   "metadata": {},
   "outputs": [],
   "source": [
    "new_df[\"total_pay\"] = new_df[\"call_cost_overrun\"] + new_df[\"sms_cost_overrun\"] + new_df[\"data_cost_overrun\"] + new_df[\"basic_salary\"]\n",
    "new_df[\"total_pay\"] = new_df[\"total_pay\"].astype(int)\n",
    "new_df[\"call_cost_overrun\"] = new_df[\"call_cost_overrun\"].astype(int)\n",
    "new_df[\"sms_cost_overrun\"] = new_df[\"sms_cost_overrun\"].astype(int)\n",
    "new_df[\"data_cost_overrun\"] = new_df[\"data_cost_overrun\"].astype(int)"
   ]
  },
  {
   "cell_type": "code",
   "execution_count": 55,
   "metadata": {},
   "outputs": [
    {
     "data": {
      "text/html": [
       "<div>\n",
       "<style scoped>\n",
       "    .dataframe tbody tr th:only-of-type {\n",
       "        vertical-align: middle;\n",
       "    }\n",
       "\n",
       "    .dataframe tbody tr th {\n",
       "        vertical-align: top;\n",
       "    }\n",
       "\n",
       "    .dataframe thead th {\n",
       "        text-align: right;\n",
       "    }\n",
       "</style>\n",
       "<table border=\"1\" class=\"dataframe\">\n",
       "  <thead>\n",
       "    <tr style=\"text-align: right;\">\n",
       "      <th></th>\n",
       "      <th>user_id</th>\n",
       "      <th>month</th>\n",
       "      <th>gb_used</th>\n",
       "      <th>sms</th>\n",
       "      <th>duration</th>\n",
       "      <th>call_count</th>\n",
       "      <th>plan</th>\n",
       "      <th>city</th>\n",
       "      <th>calls_x_month</th>\n",
       "      <th>mins_x_month</th>\n",
       "      <th>messages_x_month</th>\n",
       "      <th>gb_x_month</th>\n",
       "      <th>basic_salary</th>\n",
       "      <th>call_cost_overrun</th>\n",
       "      <th>sms_cost_overrun</th>\n",
       "      <th>data_cost_overrun</th>\n",
       "      <th>total_pay</th>\n",
       "    </tr>\n",
       "  </thead>\n",
       "  <tbody>\n",
       "    <tr>\n",
       "      <th>0</th>\n",
       "      <td>1000</td>\n",
       "      <td>December</td>\n",
       "      <td>4.0</td>\n",
       "      <td>11.0</td>\n",
       "      <td>124.0</td>\n",
       "      <td>16.0</td>\n",
       "      <td>ultimate</td>\n",
       "      <td>Atlanta-Sandy Springs-Roswell, GA MSA</td>\n",
       "      <td>16.000000</td>\n",
       "      <td>124.000000</td>\n",
       "      <td>11.000000</td>\n",
       "      <td>4.000000</td>\n",
       "      <td>70</td>\n",
       "      <td>0</td>\n",
       "      <td>0</td>\n",
       "      <td>0</td>\n",
       "      <td>70</td>\n",
       "    </tr>\n",
       "    <tr>\n",
       "      <th>1</th>\n",
       "      <td>1001</td>\n",
       "      <td>August</td>\n",
       "      <td>21.0</td>\n",
       "      <td>30.0</td>\n",
       "      <td>182.0</td>\n",
       "      <td>27.0</td>\n",
       "      <td>surf</td>\n",
       "      <td>Seattle-Tacoma-Bellevue, WA MSA</td>\n",
       "      <td>52.200000</td>\n",
       "      <td>345.600000</td>\n",
       "      <td>41.400000</td>\n",
       "      <td>43.200000</td>\n",
       "      <td>20</td>\n",
       "      <td>0</td>\n",
       "      <td>0</td>\n",
       "      <td>60</td>\n",
       "      <td>80</td>\n",
       "    </tr>\n",
       "    <tr>\n",
       "      <th>2</th>\n",
       "      <td>1001</td>\n",
       "      <td>December</td>\n",
       "      <td>55.0</td>\n",
       "      <td>44.0</td>\n",
       "      <td>412.0</td>\n",
       "      <td>56.0</td>\n",
       "      <td>surf</td>\n",
       "      <td>Seattle-Tacoma-Bellevue, WA MSA</td>\n",
       "      <td>52.200000</td>\n",
       "      <td>345.600000</td>\n",
       "      <td>41.400000</td>\n",
       "      <td>43.200000</td>\n",
       "      <td>20</td>\n",
       "      <td>0</td>\n",
       "      <td>0</td>\n",
       "      <td>400</td>\n",
       "      <td>420</td>\n",
       "    </tr>\n",
       "    <tr>\n",
       "      <th>3</th>\n",
       "      <td>1001</td>\n",
       "      <td>November</td>\n",
       "      <td>49.0</td>\n",
       "      <td>36.0</td>\n",
       "      <td>426.0</td>\n",
       "      <td>64.0</td>\n",
       "      <td>surf</td>\n",
       "      <td>Seattle-Tacoma-Bellevue, WA MSA</td>\n",
       "      <td>52.200000</td>\n",
       "      <td>345.600000</td>\n",
       "      <td>41.400000</td>\n",
       "      <td>43.200000</td>\n",
       "      <td>20</td>\n",
       "      <td>0</td>\n",
       "      <td>0</td>\n",
       "      <td>340</td>\n",
       "      <td>360</td>\n",
       "    </tr>\n",
       "    <tr>\n",
       "      <th>4</th>\n",
       "      <td>1001</td>\n",
       "      <td>October</td>\n",
       "      <td>50.0</td>\n",
       "      <td>53.0</td>\n",
       "      <td>393.0</td>\n",
       "      <td>65.0</td>\n",
       "      <td>surf</td>\n",
       "      <td>Seattle-Tacoma-Bellevue, WA MSA</td>\n",
       "      <td>52.200000</td>\n",
       "      <td>345.600000</td>\n",
       "      <td>41.400000</td>\n",
       "      <td>43.200000</td>\n",
       "      <td>20</td>\n",
       "      <td>0</td>\n",
       "      <td>0</td>\n",
       "      <td>350</td>\n",
       "      <td>370</td>\n",
       "    </tr>\n",
       "    <tr>\n",
       "      <th>5</th>\n",
       "      <td>1001</td>\n",
       "      <td>September</td>\n",
       "      <td>41.0</td>\n",
       "      <td>44.0</td>\n",
       "      <td>315.0</td>\n",
       "      <td>49.0</td>\n",
       "      <td>surf</td>\n",
       "      <td>Seattle-Tacoma-Bellevue, WA MSA</td>\n",
       "      <td>52.200000</td>\n",
       "      <td>345.600000</td>\n",
       "      <td>41.400000</td>\n",
       "      <td>43.200000</td>\n",
       "      <td>20</td>\n",
       "      <td>0</td>\n",
       "      <td>0</td>\n",
       "      <td>260</td>\n",
       "      <td>280</td>\n",
       "    </tr>\n",
       "    <tr>\n",
       "      <th>6</th>\n",
       "      <td>1002</td>\n",
       "      <td>December</td>\n",
       "      <td>37.0</td>\n",
       "      <td>41.0</td>\n",
       "      <td>384.0</td>\n",
       "      <td>47.0</td>\n",
       "      <td>surf</td>\n",
       "      <td>Las Vegas-Henderson-Paradise, NV MSA</td>\n",
       "      <td>37.666667</td>\n",
       "      <td>276.333333</td>\n",
       "      <td>29.333333</td>\n",
       "      <td>32.333333</td>\n",
       "      <td>20</td>\n",
       "      <td>0</td>\n",
       "      <td>0</td>\n",
       "      <td>220</td>\n",
       "      <td>240</td>\n",
       "    </tr>\n",
       "    <tr>\n",
       "      <th>7</th>\n",
       "      <td>1002</td>\n",
       "      <td>November</td>\n",
       "      <td>45.0</td>\n",
       "      <td>32.0</td>\n",
       "      <td>386.0</td>\n",
       "      <td>55.0</td>\n",
       "      <td>surf</td>\n",
       "      <td>Las Vegas-Henderson-Paradise, NV MSA</td>\n",
       "      <td>37.666667</td>\n",
       "      <td>276.333333</td>\n",
       "      <td>29.333333</td>\n",
       "      <td>32.333333</td>\n",
       "      <td>20</td>\n",
       "      <td>0</td>\n",
       "      <td>0</td>\n",
       "      <td>300</td>\n",
       "      <td>320</td>\n",
       "    </tr>\n",
       "    <tr>\n",
       "      <th>8</th>\n",
       "      <td>1002</td>\n",
       "      <td>October</td>\n",
       "      <td>15.0</td>\n",
       "      <td>15.0</td>\n",
       "      <td>59.0</td>\n",
       "      <td>11.0</td>\n",
       "      <td>surf</td>\n",
       "      <td>Las Vegas-Henderson-Paradise, NV MSA</td>\n",
       "      <td>37.666667</td>\n",
       "      <td>276.333333</td>\n",
       "      <td>29.333333</td>\n",
       "      <td>32.333333</td>\n",
       "      <td>20</td>\n",
       "      <td>0</td>\n",
       "      <td>0</td>\n",
       "      <td>0</td>\n",
       "      <td>20</td>\n",
       "    </tr>\n",
       "    <tr>\n",
       "      <th>9</th>\n",
       "      <td>1003</td>\n",
       "      <td>December</td>\n",
       "      <td>53.0</td>\n",
       "      <td>50.0</td>\n",
       "      <td>1104.0</td>\n",
       "      <td>149.0</td>\n",
       "      <td>surf</td>\n",
       "      <td>Tulsa, OK MSA</td>\n",
       "      <td>149.000000</td>\n",
       "      <td>1104.000000</td>\n",
       "      <td>50.000000</td>\n",
       "      <td>53.000000</td>\n",
       "      <td>20</td>\n",
       "      <td>18</td>\n",
       "      <td>0</td>\n",
       "      <td>380</td>\n",
       "      <td>418</td>\n",
       "    </tr>\n",
       "  </tbody>\n",
       "</table>\n",
       "</div>"
      ],
      "text/plain": [
       "   user_id      month  gb_used   sms  duration  call_count      plan  \\\n",
       "0     1000   December      4.0  11.0     124.0        16.0  ultimate   \n",
       "1     1001     August     21.0  30.0     182.0        27.0      surf   \n",
       "2     1001   December     55.0  44.0     412.0        56.0      surf   \n",
       "3     1001   November     49.0  36.0     426.0        64.0      surf   \n",
       "4     1001    October     50.0  53.0     393.0        65.0      surf   \n",
       "5     1001  September     41.0  44.0     315.0        49.0      surf   \n",
       "6     1002   December     37.0  41.0     384.0        47.0      surf   \n",
       "7     1002   November     45.0  32.0     386.0        55.0      surf   \n",
       "8     1002    October     15.0  15.0      59.0        11.0      surf   \n",
       "9     1003   December     53.0  50.0    1104.0       149.0      surf   \n",
       "\n",
       "                                    city  calls_x_month  mins_x_month  \\\n",
       "0  Atlanta-Sandy Springs-Roswell, GA MSA      16.000000    124.000000   \n",
       "1        Seattle-Tacoma-Bellevue, WA MSA      52.200000    345.600000   \n",
       "2        Seattle-Tacoma-Bellevue, WA MSA      52.200000    345.600000   \n",
       "3        Seattle-Tacoma-Bellevue, WA MSA      52.200000    345.600000   \n",
       "4        Seattle-Tacoma-Bellevue, WA MSA      52.200000    345.600000   \n",
       "5        Seattle-Tacoma-Bellevue, WA MSA      52.200000    345.600000   \n",
       "6   Las Vegas-Henderson-Paradise, NV MSA      37.666667    276.333333   \n",
       "7   Las Vegas-Henderson-Paradise, NV MSA      37.666667    276.333333   \n",
       "8   Las Vegas-Henderson-Paradise, NV MSA      37.666667    276.333333   \n",
       "9                          Tulsa, OK MSA     149.000000   1104.000000   \n",
       "\n",
       "   messages_x_month  gb_x_month  basic_salary  call_cost_overrun  \\\n",
       "0         11.000000    4.000000            70                  0   \n",
       "1         41.400000   43.200000            20                  0   \n",
       "2         41.400000   43.200000            20                  0   \n",
       "3         41.400000   43.200000            20                  0   \n",
       "4         41.400000   43.200000            20                  0   \n",
       "5         41.400000   43.200000            20                  0   \n",
       "6         29.333333   32.333333            20                  0   \n",
       "7         29.333333   32.333333            20                  0   \n",
       "8         29.333333   32.333333            20                  0   \n",
       "9         50.000000   53.000000            20                 18   \n",
       "\n",
       "   sms_cost_overrun  data_cost_overrun  total_pay  \n",
       "0                 0                  0         70  \n",
       "1                 0                 60         80  \n",
       "2                 0                400        420  \n",
       "3                 0                340        360  \n",
       "4                 0                350        370  \n",
       "5                 0                260        280  \n",
       "6                 0                220        240  \n",
       "7                 0                300        320  \n",
       "8                 0                  0         20  \n",
       "9                 0                380        418  "
      ]
     },
     "execution_count": 55,
     "metadata": {},
     "output_type": "execute_result"
    }
   ],
   "source": [
    "new_df.head(10)"
   ]
  },
  {
   "attachments": {},
   "cell_type": "markdown",
   "metadata": {},
   "source": [
    "---"
   ]
  },
  {
   "cell_type": "code",
   "execution_count": 56,
   "metadata": {},
   "outputs": [
    {
     "data": {
      "text/plain": [
       "array(['Atlanta-Sandy Springs-Roswell, GA MSA',\n",
       "       'Seattle-Tacoma-Bellevue, WA MSA',\n",
       "       'Las Vegas-Henderson-Paradise, NV MSA', 'Tulsa, OK MSA',\n",
       "       'Dallas-Fort Worth-Arlington, TX MSA',\n",
       "       'San Francisco-Oakland-Berkeley, CA MSA',\n",
       "       'Grand Rapids-Kentwood, MI MSA',\n",
       "       'Orlando-Kissimmee-Sanford, FL MSA',\n",
       "       'San Jose-Sunnyvale-Santa Clara, CA MSA',\n",
       "       'Cleveland-Elyria, OH MSA',\n",
       "       'Chicago-Naperville-Elgin, IL-IN-WI MSA', 'Knoxville, TN MSA',\n",
       "       'New York-Newark-Jersey City, NY-NJ-PA MSA', 'Pittsburgh, PA MSA',\n",
       "       'Fresno, CA MSA',\n",
       "       'Washington-Arlington-Alexandria, DC-VA-MD-WV MSA',\n",
       "       'Indianapolis-Carmel-Anderson, IN MSA', 'Jacksonville, FL MSA',\n",
       "       'Los Angeles-Long Beach-Anaheim, CA MSA',\n",
       "       'Omaha-Council Bluffs, NE-IA MSA',\n",
       "       'Houston-The Woodlands-Sugar Land, TX MSA',\n",
       "       'Philadelphia-Camden-Wilmington, PA-NJ-DE-MD MSA',\n",
       "       'Tampa-St. Petersburg-Clearwater, FL MSA',\n",
       "       'Birmingham-Hoover, AL MSA', 'Oklahoma City, OK MSA',\n",
       "       'Charlotte-Concord-Gastonia, NC-SC MSA',\n",
       "       'Denver-Aurora-Lakewood, CO MSA',\n",
       "       'Nashville-Davidson–Murfreesboro–Franklin, TN MSA',\n",
       "       'Columbus, OH MSA', 'Albuquerque, NM MSA',\n",
       "       'Boston-Cambridge-Newton, MA-NH MSA',\n",
       "       'Miami-Fort Lauderdale-West Palm Beach, FL MSA',\n",
       "       'San Diego-Chula Vista-Carlsbad, CA MSA',\n",
       "       'Phoenix-Mesa-Chandler, AZ MSA',\n",
       "       'Portland-Vancouver-Hillsboro, OR-WA MSA',\n",
       "       'Cincinnati, OH-KY-IN MSA', 'Columbia, SC MSA',\n",
       "       'San Antonio-New Braunfels, TX MSA', 'Buffalo-Cheektowaga, NY MSA',\n",
       "       'Memphis, TN-MS-AR MSA',\n",
       "       'Riverside-San Bernardino-Ontario, CA MSA',\n",
       "       'Louisville/Jefferson County, KY-IN MSA',\n",
       "       'Albany-Schenectady-Troy, NY MSA', 'Providence-Warwick, RI-MA MSA',\n",
       "       'Salt Lake City, UT MSA', 'Urban Honolulu, HI MSA',\n",
       "       'El Paso, TX MSA', 'New Haven-Milford, CT MSA',\n",
       "       'North Port-Sarasota-Bradenton, FL MSA', 'Baton Rouge, LA MSA',\n",
       "       'New Orleans-Metairie, LA MSA',\n",
       "       'Bridgeport-Stamford-Norwalk, CT MSA',\n",
       "       'Virginia Beach-Norfolk-Newport News, VA-NC MSA',\n",
       "       'Baltimore-Columbia-Towson, MD MSA', 'Milwaukee-Waukesha, WI MSA',\n",
       "       'Oxnard-Thousand Oaks-Ventura, CA MSA',\n",
       "       'Sacramento–Roseville–Folsom, CA MSA',\n",
       "       'Austin-Round Rock-Georgetown, TX MSA', 'Richmond, VA MSA',\n",
       "       'St. Louis, MO-IL MSA',\n",
       "       'Minneapolis-St. Paul-Bloomington, MN-WI MSA',\n",
       "       'Dayton-Kettering, OH MSA', 'Bakersfield, CA MSA',\n",
       "       'Detroit-Warren-Dearborn, MI MSA', 'Kansas City, MO-KS MSA',\n",
       "       'Charleston-North Charleston, SC MSA', 'Rochester, NY MSA',\n",
       "       'Raleigh-Cary, NC MSA', 'Colorado Springs, CO MSA',\n",
       "       'Greensboro-High Point, NC MSA', 'Tucson, AZ MSA',\n",
       "       'Stockton, CA MSA', 'Cape Coral-Fort Myers, FL MSA'], dtype=object)"
      ]
     },
     "execution_count": 56,
     "metadata": {},
     "output_type": "execute_result"
    }
   ],
   "source": [
    "user_status['city'].unique()"
   ]
  },
  {
   "cell_type": "code",
   "execution_count": 57,
   "metadata": {},
   "outputs": [],
   "source": [
    "def region(city):\n",
    "    commas_not = city.split(\",\")\n",
    "    for entry in commas_not:\n",
    "        if ('NY-NJ' in entry)|(entry == 'NY')|(entry == 'NJ'):\n",
    "            return 'ny-nj'"
   ]
  },
  {
   "cell_type": "code",
   "execution_count": 58,
   "metadata": {},
   "outputs": [
    {
     "data": {
      "text/plain": [
       "other    1916\n",
       "ny-nj     377\n",
       "Name: region, dtype: int64"
      ]
     },
     "execution_count": 58,
     "metadata": {},
     "output_type": "execute_result"
    }
   ],
   "source": [
    "#aplicamos la funcion a la nueva columna region\n",
    "new_df['region'] = new_df['city'].apply(region)\n",
    "#rellenamos las otras columnas que no cumplían la condición con la cadena 'other'\n",
    "new_df['region'] = new_df['region'].fillna('other')\n",
    "#convertimos al tipo \"category\"\n",
    "new_df['region'] = new_df['region'].astype('category')\n",
    "#mostramos un conteo de los valores\n",
    "new_df['region'].value_counts() "
   ]
  },
  {
   "cell_type": "code",
   "execution_count": 59,
   "metadata": {},
   "outputs": [
    {
     "data": {
      "text/html": [
       "<div>\n",
       "<style scoped>\n",
       "    .dataframe tbody tr th:only-of-type {\n",
       "        vertical-align: middle;\n",
       "    }\n",
       "\n",
       "    .dataframe tbody tr th {\n",
       "        vertical-align: top;\n",
       "    }\n",
       "\n",
       "    .dataframe thead th {\n",
       "        text-align: right;\n",
       "    }\n",
       "</style>\n",
       "<table border=\"1\" class=\"dataframe\">\n",
       "  <thead>\n",
       "    <tr style=\"text-align: right;\">\n",
       "      <th></th>\n",
       "      <th>user_id</th>\n",
       "      <th>month</th>\n",
       "      <th>gb_used</th>\n",
       "      <th>sms</th>\n",
       "      <th>duration</th>\n",
       "      <th>call_count</th>\n",
       "      <th>plan</th>\n",
       "      <th>city</th>\n",
       "      <th>calls_x_month</th>\n",
       "      <th>mins_x_month</th>\n",
       "      <th>messages_x_month</th>\n",
       "      <th>gb_x_month</th>\n",
       "      <th>basic_salary</th>\n",
       "      <th>call_cost_overrun</th>\n",
       "      <th>sms_cost_overrun</th>\n",
       "      <th>data_cost_overrun</th>\n",
       "      <th>total_pay</th>\n",
       "      <th>region</th>\n",
       "    </tr>\n",
       "  </thead>\n",
       "  <tbody>\n",
       "    <tr>\n",
       "      <th>0</th>\n",
       "      <td>1000</td>\n",
       "      <td>December</td>\n",
       "      <td>4.0</td>\n",
       "      <td>11.0</td>\n",
       "      <td>124.0</td>\n",
       "      <td>16.0</td>\n",
       "      <td>ultimate</td>\n",
       "      <td>Atlanta-Sandy Springs-Roswell, GA MSA</td>\n",
       "      <td>16.0</td>\n",
       "      <td>124.0</td>\n",
       "      <td>11.0</td>\n",
       "      <td>4.0</td>\n",
       "      <td>70</td>\n",
       "      <td>0</td>\n",
       "      <td>0</td>\n",
       "      <td>0</td>\n",
       "      <td>70</td>\n",
       "      <td>other</td>\n",
       "    </tr>\n",
       "    <tr>\n",
       "      <th>1</th>\n",
       "      <td>1001</td>\n",
       "      <td>August</td>\n",
       "      <td>21.0</td>\n",
       "      <td>30.0</td>\n",
       "      <td>182.0</td>\n",
       "      <td>27.0</td>\n",
       "      <td>surf</td>\n",
       "      <td>Seattle-Tacoma-Bellevue, WA MSA</td>\n",
       "      <td>52.2</td>\n",
       "      <td>345.6</td>\n",
       "      <td>41.4</td>\n",
       "      <td>43.2</td>\n",
       "      <td>20</td>\n",
       "      <td>0</td>\n",
       "      <td>0</td>\n",
       "      <td>60</td>\n",
       "      <td>80</td>\n",
       "      <td>other</td>\n",
       "    </tr>\n",
       "    <tr>\n",
       "      <th>2</th>\n",
       "      <td>1001</td>\n",
       "      <td>December</td>\n",
       "      <td>55.0</td>\n",
       "      <td>44.0</td>\n",
       "      <td>412.0</td>\n",
       "      <td>56.0</td>\n",
       "      <td>surf</td>\n",
       "      <td>Seattle-Tacoma-Bellevue, WA MSA</td>\n",
       "      <td>52.2</td>\n",
       "      <td>345.6</td>\n",
       "      <td>41.4</td>\n",
       "      <td>43.2</td>\n",
       "      <td>20</td>\n",
       "      <td>0</td>\n",
       "      <td>0</td>\n",
       "      <td>400</td>\n",
       "      <td>420</td>\n",
       "      <td>other</td>\n",
       "    </tr>\n",
       "    <tr>\n",
       "      <th>3</th>\n",
       "      <td>1001</td>\n",
       "      <td>November</td>\n",
       "      <td>49.0</td>\n",
       "      <td>36.0</td>\n",
       "      <td>426.0</td>\n",
       "      <td>64.0</td>\n",
       "      <td>surf</td>\n",
       "      <td>Seattle-Tacoma-Bellevue, WA MSA</td>\n",
       "      <td>52.2</td>\n",
       "      <td>345.6</td>\n",
       "      <td>41.4</td>\n",
       "      <td>43.2</td>\n",
       "      <td>20</td>\n",
       "      <td>0</td>\n",
       "      <td>0</td>\n",
       "      <td>340</td>\n",
       "      <td>360</td>\n",
       "      <td>other</td>\n",
       "    </tr>\n",
       "    <tr>\n",
       "      <th>4</th>\n",
       "      <td>1001</td>\n",
       "      <td>October</td>\n",
       "      <td>50.0</td>\n",
       "      <td>53.0</td>\n",
       "      <td>393.0</td>\n",
       "      <td>65.0</td>\n",
       "      <td>surf</td>\n",
       "      <td>Seattle-Tacoma-Bellevue, WA MSA</td>\n",
       "      <td>52.2</td>\n",
       "      <td>345.6</td>\n",
       "      <td>41.4</td>\n",
       "      <td>43.2</td>\n",
       "      <td>20</td>\n",
       "      <td>0</td>\n",
       "      <td>0</td>\n",
       "      <td>350</td>\n",
       "      <td>370</td>\n",
       "      <td>other</td>\n",
       "    </tr>\n",
       "  </tbody>\n",
       "</table>\n",
       "</div>"
      ],
      "text/plain": [
       "   user_id     month  gb_used   sms  duration  call_count      plan  \\\n",
       "0     1000  December      4.0  11.0     124.0        16.0  ultimate   \n",
       "1     1001    August     21.0  30.0     182.0        27.0      surf   \n",
       "2     1001  December     55.0  44.0     412.0        56.0      surf   \n",
       "3     1001  November     49.0  36.0     426.0        64.0      surf   \n",
       "4     1001   October     50.0  53.0     393.0        65.0      surf   \n",
       "\n",
       "                                    city  calls_x_month  mins_x_month  \\\n",
       "0  Atlanta-Sandy Springs-Roswell, GA MSA           16.0         124.0   \n",
       "1        Seattle-Tacoma-Bellevue, WA MSA           52.2         345.6   \n",
       "2        Seattle-Tacoma-Bellevue, WA MSA           52.2         345.6   \n",
       "3        Seattle-Tacoma-Bellevue, WA MSA           52.2         345.6   \n",
       "4        Seattle-Tacoma-Bellevue, WA MSA           52.2         345.6   \n",
       "\n",
       "   messages_x_month  gb_x_month  basic_salary  call_cost_overrun  \\\n",
       "0              11.0         4.0            70                  0   \n",
       "1              41.4        43.2            20                  0   \n",
       "2              41.4        43.2            20                  0   \n",
       "3              41.4        43.2            20                  0   \n",
       "4              41.4        43.2            20                  0   \n",
       "\n",
       "   sms_cost_overrun  data_cost_overrun  total_pay region  \n",
       "0                 0                  0         70  other  \n",
       "1                 0                 60         80  other  \n",
       "2                 0                400        420  other  \n",
       "3                 0                340        360  other  \n",
       "4                 0                350        370  other  "
      ]
     },
     "execution_count": 59,
     "metadata": {},
     "output_type": "execute_result"
    }
   ],
   "source": [
    "new_df.head()"
   ]
  },
  {
   "attachments": {},
   "cell_type": "markdown",
   "metadata": {},
   "source": [
    "---"
   ]
  },
  {
   "attachments": {},
   "cell_type": "markdown",
   "metadata": {},
   "source": [
    "## Paso 3. Analisis de los datos"
   ]
  },
  {
   "attachments": {},
   "cell_type": "markdown",
   "metadata": {},
   "source": [
    "Analizaremos los minutos, los mensajes de texto y el volumen de datos que los usuarios de cada plan necesitan por mes. calcularemos la media, la varianza y la desviacion estandar y trazaremos histogramas.\n",
    "Así que primero crearemos porciones para el plan de surf y las analizaremos."
   ]
  },
  {
   "cell_type": "code",
   "execution_count": 60,
   "metadata": {},
   "outputs": [
    {
     "name": "stdout",
     "output_type": "stream",
     "text": [
      "<class 'pandas.core.frame.DataFrame'>\n",
      "Int64Index: 1573 entries, 1 to 2292\n",
      "Data columns (total 18 columns):\n",
      " #   Column             Non-Null Count  Dtype   \n",
      "---  ------             --------------  -----   \n",
      " 0   user_id            1573 non-null   int64   \n",
      " 1   month              1573 non-null   object  \n",
      " 2   gb_used            1573 non-null   float64 \n",
      " 3   sms                1573 non-null   float64 \n",
      " 4   duration           1573 non-null   float64 \n",
      " 5   call_count         1573 non-null   float64 \n",
      " 6   plan               1573 non-null   category\n",
      " 7   city               1573 non-null   object  \n",
      " 8   calls_x_month      1573 non-null   float64 \n",
      " 9   mins_x_month       1573 non-null   float64 \n",
      " 10  messages_x_month   1573 non-null   float64 \n",
      " 11  gb_x_month         1573 non-null   float64 \n",
      " 12  basic_salary       1573 non-null   int32   \n",
      " 13  call_cost_overrun  1573 non-null   int32   \n",
      " 14  sms_cost_overrun   1573 non-null   int32   \n",
      " 15  data_cost_overrun  1573 non-null   int32   \n",
      " 16  total_pay          1573 non-null   int32   \n",
      " 17  region             1573 non-null   category\n",
      "dtypes: category(2), float64(8), int32(5), int64(1), object(2)\n",
      "memory usage: 181.5+ KB\n"
     ]
    }
   ],
   "source": [
    "surf_filtered = new_df.query('plan == \"surf\"')\n",
    "\n",
    "surf_filtered.info(verbose=True)"
   ]
  },
  {
   "attachments": {},
   "cell_type": "markdown",
   "metadata": {},
   "source": [
    "Análisis de los minutos por mes\n",
    "---\n",
    "\n",
    "utilizando la columna \"mins_x_month\", podemos hallar la varianza"
   ]
  },
  {
   "cell_type": "code",
   "execution_count": 61,
   "metadata": {},
   "outputs": [
    {
     "data": {
      "text/plain": [
       "35542.37425118073"
      ]
     },
     "execution_count": 61,
     "metadata": {},
     "output_type": "execute_result"
    }
   ],
   "source": [
    "np.var(surf_filtered['mins_x_month'])"
   ]
  },
  {
   "attachments": {},
   "cell_type": "markdown",
   "metadata": {},
   "source": [
    "utilizamos el metodo drescribe() media y la desviación típica."
   ]
  },
  {
   "cell_type": "code",
   "execution_count": 62,
   "metadata": {},
   "outputs": [
    {
     "data": {
      "text/plain": [
       "count    1573.000000\n",
       "mean      429.002815\n",
       "std       188.586807\n",
       "min         0.000000\n",
       "25%       302.500000\n",
       "50%       430.428571\n",
       "75%       540.000000\n",
       "max      1104.000000\n",
       "Name: mins_x_month, dtype: float64"
      ]
     },
     "execution_count": 62,
     "metadata": {},
     "output_type": "execute_result"
    }
   ],
   "source": [
    "surf_filtered['mins_x_month'].describe()"
   ]
  },
  {
   "attachments": {},
   "cell_type": "markdown",
   "metadata": {},
   "source": [
    "Vamos a trazar ahora un histograma para nuestra columna mins_x_month de surf_filtered"
   ]
  },
  {
   "cell_type": "code",
   "execution_count": 63,
   "metadata": {},
   "outputs": [
    {
     "data": {
      "image/png": "[encoded data removed]",
      "text/plain": [
       "<Figure size 640x480 with 1 Axes>"
      ]
     },
     "metadata": {},
     "output_type": "display_data"
    }
   ],
   "source": [
    "#trazaremos un histograma minutos por mes del plan surf\n",
    "surf_filtered['mins_x_month'].hist(bins=15)\n",
    "#titula el histograma: Minutes por month - Surf\n",
    "plt.title('Minutes x month - Surf')\n",
    "plt.show()"
   ]
  },
  {
   "attachments": {},
   "cell_type": "markdown",
   "metadata": {},
   "source": [
    "Podemos ver que la mayoría de los usuarios del plan de surf llaman entre 220 y 590 con un pico cerca de 450. Se observa una disminución general a cada lado del intervalo. Como la media es mayor que la mediana, podemos observar que el histograma tiene un sesgo positivo (o un sesgo hacia la derecha)"
   ]
  },
  {
   "attachments": {},
   "cell_type": "markdown",
   "metadata": {},
   "source": [
    "Análisis del volumen de datos\n",
    "---\n",
    "Hagamos lo mismo con la cantidad de datos utilizados, es decir, la columna \"gb_x_month\". El mismo ejercicio; encontramos la varianza"
   ]
  },
  {
   "cell_type": "code",
   "execution_count": 64,
   "metadata": {},
   "outputs": [
    {
     "data": {
      "text/plain": [
       "158.8524469948168"
      ]
     },
     "execution_count": 64,
     "metadata": {},
     "output_type": "execute_result"
    }
   ],
   "source": [
    "np.var(surf_filtered['gb_x_month'])"
   ]
  },
  {
   "attachments": {},
   "cell_type": "markdown",
   "metadata": {},
   "source": [
    "la media y la desviación estándar usando describe()"
   ]
  },
  {
   "cell_type": "code",
   "execution_count": 65,
   "metadata": {},
   "outputs": [
    {
     "data": {
      "text/plain": [
       "count    1573.000000\n",
       "mean       40.236544\n",
       "std        12.607676\n",
       "min         0.000000\n",
       "25%        34.428571\n",
       "50%        40.875000\n",
       "75%        48.500000\n",
       "max        83.500000\n",
       "Name: gb_x_month, dtype: float64"
      ]
     },
     "execution_count": 65,
     "metadata": {},
     "output_type": "execute_result"
    }
   ],
   "source": [
    "surf_filtered['gb_x_month'].describe()"
   ]
  },
  {
   "attachments": {},
   "cell_type": "markdown",
   "metadata": {},
   "source": [
    "trazaremos un histograma."
   ]
  },
  {
   "cell_type": "code",
   "execution_count": 66,
   "metadata": {},
   "outputs": [
    {
     "data": {
      "image/png": "[encoded data removed]",
      "text/plain": [
       "<Figure size 640x480 with 1 Axes>"
      ]
     },
     "metadata": {},
     "output_type": "display_data"
    }
   ],
   "source": [
    "surf_filtered['gb_x_month'].hist(bins=15)\n",
    "plt.title('Gigabytes x month - Surf')\n",
    "plt.show()"
   ]
  },
  {
   "attachments": {},
   "cell_type": "markdown",
   "metadata": {},
   "source": [
    "Observamos un pico cercano a los 35 GB mensuales, con un uso típico que oscila entre los 30 GB y los 50 GB. Podemos observar un valor atípico en el histograma, lo que nos permite saber que 2 o 3 personas utilizan alrededor de 80 GB mensuales. No hay grandes diferencias entre la media y la mediana, por lo que parece que el histograma no está sesgado. Sin embargo, si eliminamos los valores atípicos (es decir, en torno a 80 GB), observaremos una inclinación más negativa."
   ]
  },
  {
   "attachments": {},
   "cell_type": "markdown",
   "metadata": {},
   "source": [
    "Análisis de los mensajes por mes.\n",
    "---\n",
    "utilizando la columna \"messages_x_month\", podemos hallar la varianza"
   ]
  },
  {
   "cell_type": "code",
   "execution_count": 67,
   "metadata": {},
   "outputs": [
    {
     "data": {
      "text/plain": [
       "941.0966861859602"
      ]
     },
     "execution_count": 67,
     "metadata": {},
     "output_type": "execute_result"
    }
   ],
   "source": [
    "np.var(surf_filtered['messages_x_month'])"
   ]
  },
  {
   "attachments": {},
   "cell_type": "markdown",
   "metadata": {},
   "source": [
    "Media y desviación estandar"
   ]
  },
  {
   "cell_type": "code",
   "execution_count": 68,
   "metadata": {},
   "outputs": [
    {
     "data": {
      "text/plain": [
       "count    1573.000000\n",
       "mean       31.287455\n",
       "std        30.687055\n",
       "min         0.000000\n",
       "25%         3.750000\n",
       "50%        26.500000\n",
       "75%        46.166667\n",
       "max       159.000000\n",
       "Name: messages_x_month, dtype: float64"
      ]
     },
     "execution_count": 68,
     "metadata": {},
     "output_type": "execute_result"
    }
   ],
   "source": [
    "surf_filtered['messages_x_month'].describe()"
   ]
  },
  {
   "cell_type": "code",
   "execution_count": 69,
   "metadata": {},
   "outputs": [
    {
     "data": {
      "image/png": "[encoded data removed]",
      "text/plain": [
       "<Figure size 640x480 with 1 Axes>"
      ]
     },
     "metadata": {},
     "output_type": "display_data"
    }
   ],
   "source": [
    "surf_filtered['messages_x_month'].hist(bins=15)\n",
    "plt.title('Messages x month - Surf')\n",
    "plt.show()"
   ]
  },
  {
   "attachments": {},
   "cell_type": "markdown",
   "metadata": {},
   "source": [
    "Observamos un descenso constante, con un pico que oscila entre 0 y unos 10 mensajes en un mes. Así pues, cada vez más personas envían menos mensajes."
   ]
  },
  {
   "attachments": {},
   "cell_type": "markdown",
   "metadata": {},
   "source": [
    "Análisis del comportamiento de los usuarios \"ultimate\n",
    "---"
   ]
  },
  {
   "cell_type": "code",
   "execution_count": 70,
   "metadata": {},
   "outputs": [
    {
     "name": "stdout",
     "output_type": "stream",
     "text": [
      "<class 'pandas.core.frame.DataFrame'>\n",
      "Int64Index: 720 entries, 0 to 2269\n",
      "Data columns (total 18 columns):\n",
      " #   Column             Non-Null Count  Dtype   \n",
      "---  ------             --------------  -----   \n",
      " 0   user_id            720 non-null    int64   \n",
      " 1   month              720 non-null    object  \n",
      " 2   gb_used            720 non-null    float64 \n",
      " 3   sms                720 non-null    float64 \n",
      " 4   duration           720 non-null    float64 \n",
      " 5   call_count         720 non-null    float64 \n",
      " 6   plan               720 non-null    category\n",
      " 7   city               720 non-null    object  \n",
      " 8   calls_x_month      720 non-null    float64 \n",
      " 9   mins_x_month       720 non-null    float64 \n",
      " 10  messages_x_month   720 non-null    float64 \n",
      " 11  gb_x_month         720 non-null    float64 \n",
      " 12  basic_salary       720 non-null    int32   \n",
      " 13  call_cost_overrun  720 non-null    int32   \n",
      " 14  sms_cost_overrun   720 non-null    int32   \n",
      " 15  data_cost_overrun  720 non-null    int32   \n",
      " 16  total_pay          720 non-null    int32   \n",
      " 17  region             720 non-null    category\n",
      "dtypes: category(2), float64(8), int32(5), int64(1), object(2)\n",
      "memory usage: 83.2+ KB\n"
     ]
    }
   ],
   "source": [
    "ultimate_filtered = new_df.query('plan == \"ultimate\"')\n",
    "ultimate_filtered.info(verbose=True)"
   ]
  },
  {
   "attachments": {},
   "cell_type": "markdown",
   "metadata": {},
   "source": [
    "Análisis de minutos por mes\n",
    "---"
   ]
  },
  {
   "attachments": {},
   "cell_type": "markdown",
   "metadata": {},
   "source": [
    "utilizaremos la columna \"messages_x_month\", podemos hallar la varianza"
   ]
  },
  {
   "cell_type": "code",
   "execution_count": 71,
   "metadata": {},
   "outputs": [
    {
     "data": {
      "text/plain": [
       "39049.054751763535"
      ]
     },
     "execution_count": 71,
     "metadata": {},
     "output_type": "execute_result"
    }
   ],
   "source": [
    "np.var(ultimate_filtered['mins_x_month'])"
   ]
  },
  {
   "attachments": {},
   "cell_type": "markdown",
   "metadata": {},
   "source": [
    "Media y desviación estandar usando describe():"
   ]
  },
  {
   "cell_type": "code",
   "execution_count": 72,
   "metadata": {},
   "outputs": [
    {
     "data": {
      "text/plain": [
       "count     720.000000\n",
       "mean      431.743287\n",
       "std       197.745708\n",
       "min         0.000000\n",
       "25%       299.000000\n",
       "50%       424.950000\n",
       "75%       527.500000\n",
       "max      1054.571429\n",
       "Name: mins_x_month, dtype: float64"
      ]
     },
     "execution_count": 72,
     "metadata": {},
     "output_type": "execute_result"
    }
   ],
   "source": [
    "ultimate_filtered['mins_x_month'].describe()"
   ]
  },
  {
   "cell_type": "code",
   "execution_count": 73,
   "metadata": {},
   "outputs": [
    {
     "data": {
      "image/png": "[encoded data removed]",
      "text/plain": [
       "<Figure size 640x480 with 1 Axes>"
      ]
     },
     "metadata": {},
     "output_type": "display_data"
    }
   ],
   "source": [
    "ultimate_filtered['mins_x_month'].hist(bins=15)\n",
    "plt.title('Minutes x month - Ultimate')\n",
    "plt.show()"
   ]
  },
  {
   "attachments": {},
   "cell_type": "markdown",
   "metadata": {},
   "source": [
    "La mayoría de los usuarios pasan entre 220 y cerca de los 550 minutos al mes. A partir del histograma, podemos observar que más de 750 es territorio de valores atípicos y su territorio de valores atípicos está más poblado que el de los usuarios de surf. Si eliminamos los valores atípicos, observamos un sesgo más negativo."
   ]
  },
  {
   "attachments": {},
   "cell_type": "markdown",
   "metadata": {},
   "source": [
    "Análisis del volumen de datos\n",
    "---"
   ]
  },
  {
   "attachments": {},
   "cell_type": "markdown",
   "metadata": {},
   "source": [
    "utilizaremos la columna \"gb_x_month\", podemos hallar la varianza"
   ]
  },
  {
   "cell_type": "code",
   "execution_count": 74,
   "metadata": {},
   "outputs": [
    {
     "data": {
      "text/plain": [
       "117.7040514520202"
      ]
     },
     "execution_count": 74,
     "metadata": {},
     "output_type": "execute_result"
    }
   ],
   "source": [
    "np.var(ultimate_filtered['gb_x_month'])"
   ]
  },
  {
   "attachments": {},
   "cell_type": "markdown",
   "metadata": {},
   "source": [
    "la media y la desviación estandar utilizando describe():"
   ]
  },
  {
   "cell_type": "code",
   "execution_count": 75,
   "metadata": {},
   "outputs": [
    {
     "data": {
      "text/plain": [
       "count    720.000000\n",
       "mean      41.118056\n",
       "std       10.856692\n",
       "min        2.000000\n",
       "25%       36.777778\n",
       "50%       41.233333\n",
       "75%       47.333333\n",
       "max       69.000000\n",
       "Name: gb_x_month, dtype: float64"
      ]
     },
     "execution_count": 75,
     "metadata": {},
     "output_type": "execute_result"
    }
   ],
   "source": [
    "ultimate_filtered['gb_x_month'].describe()"
   ]
  },
  {
   "attachments": {},
   "cell_type": "markdown",
   "metadata": {},
   "source": [
    "trazaremos un histograma"
   ]
  },
  {
   "cell_type": "code",
   "execution_count": 76,
   "metadata": {},
   "outputs": [
    {
     "data": {
      "image/png": "[encoded data removed]",
      "text/plain": [
       "<Figure size 640x480 with 1 Axes>"
      ]
     },
     "metadata": {},
     "output_type": "display_data"
    }
   ],
   "source": [
    "ultimate_filtered['gb_x_month'].hist(bins=15)\n",
    "plt.title('Gigabytes x month - Ultimate')\n",
    "plt.show()"
   ]
  },
  {
   "attachments": {},
   "cell_type": "markdown",
   "metadata": {},
   "source": [
    "Observamos un pico en torno a los 40 GB (más alto que el surf), y la cantidad típica oscila entre unos 30 y unos 50. Se observa un sesgo negativo en el gráfico"
   ]
  },
  {
   "attachments": {},
   "cell_type": "markdown",
   "metadata": {},
   "source": [
    "Análisis de mensajes por mes\n",
    "---"
   ]
  },
  {
   "attachments": {},
   "cell_type": "markdown",
   "metadata": {},
   "source": [
    "utilizaremos la columna \"messages_x_month\", encontrar la varianza"
   ]
  },
  {
   "cell_type": "code",
   "execution_count": 77,
   "metadata": {},
   "outputs": [
    {
     "data": {
      "text/plain": [
       "1001.3589927691667"
      ]
     },
     "execution_count": 77,
     "metadata": {},
     "output_type": "execute_result"
    }
   ],
   "source": [
    "np.var(ultimate_filtered['messages_x_month'])"
   ]
  },
  {
   "attachments": {},
   "cell_type": "markdown",
   "metadata": {},
   "source": [
    "La media y la desviación estandar mediante describe()"
   ]
  },
  {
   "cell_type": "code",
   "execution_count": 78,
   "metadata": {},
   "outputs": [
    {
     "data": {
      "text/plain": [
       "count    720.000000\n",
       "mean      37.581651\n",
       "std       31.666255\n",
       "min        0.000000\n",
       "25%        8.888889\n",
       "50%       32.272727\n",
       "75%       60.250000\n",
       "max      148.000000\n",
       "Name: messages_x_month, dtype: float64"
      ]
     },
     "execution_count": 78,
     "metadata": {},
     "output_type": "execute_result"
    }
   ],
   "source": [
    "ultimate_filtered['messages_x_month'].describe()"
   ]
  },
  {
   "attachments": {},
   "cell_type": "markdown",
   "metadata": {},
   "source": [
    "trazaremos un histograma"
   ]
  },
  {
   "cell_type": "code",
   "execution_count": 79,
   "metadata": {},
   "outputs": [
    {
     "data": {
      "image/png": "[encoded data removed]",
      "text/plain": [
       "<Figure size 640x480 with 1 Axes>"
      ]
     },
     "metadata": {},
     "output_type": "display_data"
    }
   ],
   "source": [
    "ultimate_filtered['messages_x_month'].hist(bins=15)\n",
    "plt.title('Messages x month - Ultimate')\n",
    "plt.show()"
   ]
  },
  {
   "attachments": {},
   "cell_type": "markdown",
   "metadata": {},
   "source": [
    "se observa una disminución constante, con un pico entre 0 y 10 mensajes. Se trata de un histograma más ruidoso que el de surf y se observa un valor atípico en torno a los 140 mensajes."
   ]
  },
  {
   "attachments": {},
   "cell_type": "markdown",
   "metadata": {},
   "source": [
    "Conclusión\n",
    "Hemos analizado el comportamiento de los usuarios de ambos planes. Para surf, podemos ver que la mayoría de los usuarios del plan surf llaman entre 220 y 590 minutos, con un uso típico de datos que oscila entre unos 30GB y unos 50GB, la mayoría de ellos enviando de 0 a unos 10 mensajes en un mes. Para ultimate, la mayoría de los usuarios gastan entre 220 y unos 550 minutos al mes, con un uso típico de datos que oscila entre unos 30 y unos 50 GB, la mayoría de ellos enviando de 0 a unos 10 mensajes en un mes.\n",
    "\n",
    "---"
   ]
  },
  {
   "attachments": {},
   "cell_type": "markdown",
   "metadata": {},
   "source": [
    "Prueba de hipótesis\n",
    "---"
   ]
  },
  {
   "attachments": {},
   "cell_type": "markdown",
   "metadata": {},
   "source": [
    "Prueba de hipótesis: \"El beneficio medio de los usuarios de los planes de llamadas Ultimate y Surf difiere\"\n",
    "- En primer lugar, debemos especificar que nuestra hipótesis nula es: \"El beneficio medio de los usuarios de los planes de llamadas Ultimate y Surf es diferente\". Por lo tanto, nuestra hipótesis alternativa será la contraria a la hipótesis nula.\n",
    "- Utilizaremos el método \"st.ttest_ind()\", que se utiliza como prueba t para la igualdad de medias o promedios entre 2 poblaciones estadísticas. La función devuelve un valor p que compararemos con un valor que fijaremos nosotros mismos conocido como significación estadística (lo llamaremos alpha y lo fijaremos en el 5%). \n",
    "- si nuestro valor p es inferior a nuestro alpha, eso nos indica que no es probable que los promedios (medias) sean iguales, lo que en este caso nos dará motivos para NO rechazar la hipótesis. Si resulta ser mayor que nuestro alfa, eso nos dice que es probable que las medias sean iguales, lo que en este caso nos da motivos para rechazar la hipótesis nula. En primer lugar, debemos comprobar si las varianzas de ambos conjuntos de datos son diferentes o iguales (al menos aproximadamente iguales). Examinaremos la columna \"total_pay\" de las tablas \"surf_filtered\" y \"ultimate_filtered\"."
   ]
  },
  {
   "attachments": {},
   "cell_type": "markdown",
   "metadata": {},
   "source": [
    "Obtengamos la varianza de ultimate_filtered['total_pay']."
   ]
  },
  {
   "cell_type": "code",
   "execution_count": 80,
   "metadata": {},
   "outputs": [
    {
     "data": {
      "text/plain": [
       "12074.818950617282"
      ]
     },
     "execution_count": 80,
     "metadata": {},
     "output_type": "execute_result"
    }
   ],
   "source": [
    "np.var(ultimate_filtered['total_pay'])"
   ]
  },
  {
   "attachments": {},
   "cell_type": "markdown",
   "metadata": {},
   "source": [
    "Ahora para surf_filtered['total_pay']"
   ]
  },
  {
   "cell_type": "code",
   "execution_count": 81,
   "metadata": {},
   "outputs": [
    {
     "data": {
      "text/plain": [
       "26615.02124010186"
      ]
     },
     "execution_count": 81,
     "metadata": {},
     "output_type": "execute_result"
    }
   ],
   "source": [
    "np.var(surf_filtered['total_pay'])"
   ]
  },
  {
   "cell_type": "code",
   "execution_count": 82,
   "metadata": {},
   "outputs": [
    {
     "name": "stdout",
     "output_type": "stream",
     "text": [
      "p-value: 0.031903140354255316\n",
      "No podemos ignorar la hipótesis nula\n"
     ]
    }
   ],
   "source": [
    "#nuestra significación estadística en el 5%\n",
    "alpha = 0.05 \n",
    "\n",
    "#realizando la prueba en las columnas total_pay de ambos cortes especificando que sus varianzas no son iguales\n",
    "results = st.ttest_ind(ultimate_filtered['total_pay'], surf_filtered['total_pay'], equal_var=False)\n",
    "print('p-value:', results.pvalue)\n",
    "\n",
    "#declaración condicional\n",
    "if results.pvalue < alpha:\n",
    "#si el valor p es menor que alpha significa que las medias no son iguales\n",
    "    print('No podemos ignorar la hipótesis nula')\n",
    "else:\n",
    "#si no\n",
    "    print('Rechazamos la hipótesis nula')"
   ]
  },
  {
   "attachments": {},
   "cell_type": "markdown",
   "metadata": {},
   "source": [
    "El valor p es menor que alfa, lo que significa que no es probable que las medias de ambos dataframe sean iguales. Así que no tenemos motivos para rechazar la hipótesis nula."
   ]
  },
  {
   "attachments": {},
   "cell_type": "markdown",
   "metadata": {},
   "source": [
    "Prueba de hipótesis 2: El ingreso promedio de los usuarios en el área de estados Nueva York-Nueva Jersey es diferente al de los usuarios de otras regiones.\n",
    "---"
   ]
  },
  {
   "attachments": {},
   "cell_type": "markdown",
   "metadata": {},
   "source": [
    "Primero tendremos que crear un filtro en el que la columna 'región' = \"ny-nj\" y otro en el que la 'región' = \"other\""
   ]
  },
  {
   "cell_type": "code",
   "execution_count": 83,
   "metadata": {},
   "outputs": [
    {
     "name": "stdout",
     "output_type": "stream",
     "text": [
      "<class 'pandas.core.frame.DataFrame'>\n",
      "Int64Index: 377 entries, 56 to 2280\n",
      "Data columns (total 18 columns):\n",
      " #   Column             Non-Null Count  Dtype   \n",
      "---  ------             --------------  -----   \n",
      " 0   user_id            377 non-null    int64   \n",
      " 1   month              377 non-null    object  \n",
      " 2   gb_used            377 non-null    float64 \n",
      " 3   sms                377 non-null    float64 \n",
      " 4   duration           377 non-null    float64 \n",
      " 5   call_count         377 non-null    float64 \n",
      " 6   plan               377 non-null    category\n",
      " 7   city               377 non-null    object  \n",
      " 8   calls_x_month      377 non-null    float64 \n",
      " 9   mins_x_month       377 non-null    float64 \n",
      " 10  messages_x_month   377 non-null    float64 \n",
      " 11  gb_x_month         377 non-null    float64 \n",
      " 12  basic_salary       377 non-null    int32   \n",
      " 13  call_cost_overrun  377 non-null    int32   \n",
      " 14  sms_cost_overrun   377 non-null    int32   \n",
      " 15  data_cost_overrun  377 non-null    int32   \n",
      " 16  total_pay          377 non-null    int32   \n",
      " 17  region             377 non-null    category\n",
      "dtypes: category(2), float64(8), int32(5), int64(1), object(2)\n",
      "memory usage: 43.7+ KB\n"
     ]
    }
   ],
   "source": [
    "nynj_filtered = new_df.query('region == \"ny-nj\"')\n",
    "nynj_filtered.info(verbose=True)"
   ]
  },
  {
   "cell_type": "code",
   "execution_count": 84,
   "metadata": {},
   "outputs": [
    {
     "name": "stdout",
     "output_type": "stream",
     "text": [
      "<class 'pandas.core.frame.DataFrame'>\n",
      "Int64Index: 1916 entries, 0 to 2292\n",
      "Data columns (total 18 columns):\n",
      " #   Column             Non-Null Count  Dtype   \n",
      "---  ------             --------------  -----   \n",
      " 0   user_id            1916 non-null   int64   \n",
      " 1   month              1916 non-null   object  \n",
      " 2   gb_used            1916 non-null   float64 \n",
      " 3   sms                1916 non-null   float64 \n",
      " 4   duration           1916 non-null   float64 \n",
      " 5   call_count         1916 non-null   float64 \n",
      " 6   plan               1916 non-null   category\n",
      " 7   city               1916 non-null   object  \n",
      " 8   calls_x_month      1916 non-null   float64 \n",
      " 9   mins_x_month       1916 non-null   float64 \n",
      " 10  messages_x_month   1916 non-null   float64 \n",
      " 11  gb_x_month         1916 non-null   float64 \n",
      " 12  basic_salary       1916 non-null   int32   \n",
      " 13  call_cost_overrun  1916 non-null   int32   \n",
      " 14  sms_cost_overrun   1916 non-null   int32   \n",
      " 15  data_cost_overrun  1916 non-null   int32   \n",
      " 16  total_pay          1916 non-null   int32   \n",
      " 17  region             1916 non-null   category\n",
      "dtypes: category(2), float64(8), int32(5), int64(1), object(2)\n",
      "memory usage: 221.0+ KB\n"
     ]
    }
   ],
   "source": [
    "other_region_filtered = new_df.query('region == \"other\"')\n",
    "other_region_filtered.info(verbose=True)"
   ]
  },
  {
   "attachments": {},
   "cell_type": "markdown",
   "metadata": {},
   "source": [
    "nuestra hipótesis nula es: \"El ingreso promedio de los usuarios de la zona NY-NJ es diferente del de los usuarios de otras regiones\". Por lo tanto, nuestra hipótesis alternativa es: \"El ingreso promedio de los usuarios de la zona NY-NJ es el mismo que el de los usuarios de otras regiones\". Será la misma prueba; si el valor p es inferior a nuestro alfa de 0.05, significa que no es probable que los promedios (medias) de ambos conjuntos sean iguales, lo que en este caso nos da motivos para NO rechazar la hipótesis nula, y viceversa. Hallemos ambas varianzas"
   ]
  },
  {
   "cell_type": "code",
   "execution_count": 85,
   "metadata": {},
   "outputs": [
    {
     "data": {
      "text/plain": [
       "20150.25443083396"
      ]
     },
     "execution_count": 85,
     "metadata": {},
     "output_type": "execute_result"
    }
   ],
   "source": [
    "np.var(nynj_filtered['total_pay'])"
   ]
  },
  {
   "cell_type": "code",
   "execution_count": 86,
   "metadata": {},
   "outputs": [
    {
     "data": {
      "text/plain": [
       "22457.407093762668"
      ]
     },
     "execution_count": 86,
     "metadata": {},
     "output_type": "execute_result"
    }
   ],
   "source": [
    "np.var(other_region_filtered['total_pay'])"
   ]
  },
  {
   "cell_type": "code",
   "execution_count": 87,
   "metadata": {},
   "outputs": [
    {
     "name": "stdout",
     "output_type": "stream",
     "text": [
      "p-value: 0.46390206081741814\n",
      "Rechazamos la hipótesis nula\n"
     ]
    }
   ],
   "source": [
    "alpha = 0.05\n",
    "results = st.ttest_ind(nynj_filtered['total_pay'], other_region_filtered['total_pay'], equal_var=False)\n",
    "print('p-value:', results.pvalue)\n",
    "if results.pvalue < alpha:\n",
    "    print('No podemos ignorar la hipótesis nula')\n",
    "else:\n",
    "    print('Rechazamos la hipótesis nula')"
   ]
  },
  {
   "attachments": {},
   "cell_type": "markdown",
   "metadata": {},
   "source": [
    "Conclusión general\n",
    "---\n",
    "- Hemos hecho diferentes analisis: los minutos al mes, los mensajes al mes y el volumen de datos al mes de los usuarios de los planes Surf y Ultimate, y tienen un comportamiento similar. \n",
    "- Realizamos pruebas t y no encontramos motivos para rechazar la hipótesis de que el beneficio promedio de los usuarios de los planes de llamadas Ultimate y Surf difiere, pero sí pudimos rechazar la que estipulaba que el beneficio promedio de los usuarios de la zona NY-NJ es diferente al de los usuarios de otras regiones"
   ]
  }
 ],
 "metadata": {
  "kernelspec": {
   "display_name": "Python 3 (ipykernel)",
   "language": "python",
   "name": "python3"
  },
  "language_info": {
   "codemirror_mode": {
    "name": "ipython",
    "version": 3
   },
   "file_extension": ".py",
   "mimetype": "text/x-python",
   "name": "python",
   "nbconvert_exporter": "python",
   "pygments_lexer": "ipython3",
   "version": "3.11.1"
  },
  "toc": {
   "base_numbering": 1,
   "nav_menu": {},
   "number_sections": true,
   "sideBar": true,
   "skip_h1_title": true,
   "title_cell": "Table of Contents",
   "title_sidebar": "Contents",
   "toc_cell": false,
   "toc_position": {},
   "toc_section_display": true,
   "toc_window_display": false
  },
  "vscode": {
   "interpreter": {
    "hash": "d417a21d97a2e6b8832d21dc44f5cbe4be6e18325f874a8bb8484565b928cd54"
   }
  }
 },
 "nbformat": 4,
 "nbformat_minor": 2
}
